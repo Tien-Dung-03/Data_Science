{
 "cells": [
  {
   "cell_type": "markdown",
   "metadata": {
    "id": "GsccfSDERjBo"
   },
   "source": [
    "# ĐỀ THI GIỮA KÌ \n",
    "## Môn: Tối ưu hoá cho Khoa học dữ liệu\n",
    "## Ngày: 28/10/2023\n",
    "## Lớp: DHKHDL17A. Thời gian: 90 phút"
   ]
  },
  {
   "cell_type": "markdown",
   "metadata": {
    "id": "a_Nvp8jjSMsk"
   },
   "source": [
    "### Câu 1 (3 điểm)"
   ]
  },
  {
   "cell_type": "markdown",
   "metadata": {
    "id": "gxZCV9vTRtMh"
   },
   "source": [
    "Một cơ sở sản xuất đồ gỗ dự định sản xuất ba loại sản phẩm là bàn,\n",
    "ghế và tủ. Định mức sử dụng lao động, chi phí sản xuất và giá bán mỗi sản phẩm mỗi loại ước tính trong bảng sau:\n",
    "\n",
    "| Các yếu tố   |  Bàn |  Ghế | Tủ |\n",
    "|---|---|---|---|\n",
    "| Lao động (ngày công)   |  2 | 1  | 3  |\n",
    "| Chi phí sản xuất (ngàn đồng)   | 100 | 40  | 250  |\n",
    "| Giá bán (ngàn đồng)   | 260  | 120  |  600 |\n",
    "\n",
    "Bài toán đặt ra là xác định số sản phẩm mỗi loại cần phải sản xuất sao cho không bị động trong sản xuất và tổng doanh thu đạt được cao nhất, biết rằng cơ sở có số lao động tương đương với 500 ngày công, số tiền dành cho chi phí sản xuất là 40 triệu đồng và số bàn, ghế phải theo tỉ lệ 1/6.\n",
    "\n",
    "1.  Hãy lập mô hình tối ưu của bài toán trên theo dạng dưới đây bằng cách chỉ ra $f_0, A, b$ và $h$. \n",
    "\\begin{align}\n",
    "\\text{minimize}\\quad & f_0(x),\\\\\n",
    "\\text{subject to}\\quad & Ax\\leq b,\\\\\n",
    "& h(x)=0.\n",
    "\\end{align}\n",
    "\n",
    "\n",
    "2.  Sử dụng `scipy.optimize.linprog` để giải bài toán trên.\n",
    "\n",
    "\n",
    "3.  Sử dụng `cvxpy` để giải bài toán trên.\n",
    "\n",
    "*Lưu ý: Chấp nhận số lượng bàn ghế là số thực.*"
   ]
  },
  {
   "cell_type": "markdown",
   "metadata": {},
   "source": [
    "f0(x) = 260x + 120y + 600z <br>\n",
    "Lao động: 2x + y + 3z <= 500 <br>\n",
    "Chi phí: 100x + 40y + 250z <= 40000 <br>\n",
    "Số bàn/ghế: 6x = y <br> "
   ]
  },
  {
   "cell_type": "code",
   "execution_count": 2,
   "metadata": {},
   "outputs": [
    {
     "name": "stderr",
     "output_type": "stream",
     "text": [
      "C:\\Users\\Dung03\\AppData\\Local\\Temp\\ipykernel_14376\\3805275608.py:7: DeprecationWarning: `method='revised simplex'` is deprecated and will be removed in SciPy 1.11.0. Please use one of the HiGHS solvers (e.g. `method='highs'`) in new code.\n",
      "  opt = linprog(c=obj, A_ub=lhs_ineq, b_ub=rhs_ineq,\n"
     ]
    },
    {
     "data": {
      "text/plain": [
       " message: Optimization terminated successfully.\n",
       " success: True\n",
       "  status: 0\n",
       "     fun: 96836.73469387754\n",
       "       x: [ 5.102e+00  3.061e+01  1.531e+02]\n",
       "     nit: 3"
      ]
     },
     "execution_count": 2,
     "metadata": {},
     "output_type": "execute_result"
    }
   ],
   "source": [
    "from scipy.optimize import linprog\n",
    "obj = [-260,-120,-600]\n",
    "lhs_ineq = [[2, 1, 3], [100, 40, 250]]\n",
    "rhs_ineq = [500, 40000]\n",
    "lhs_eq = [[6, -1, 0]]\n",
    "rhs_eq = [0]\n",
    "opt = linprog(c=obj, A_ub=lhs_ineq, b_ub=rhs_ineq,\n",
    "              A_eq=lhs_eq, b_eq=rhs_eq,\n",
    "               method=\"revised simplex\")\n",
    "# opt\n",
    "opt.fun = -opt.fun\n",
    "opt"
   ]
  },
  {
   "cell_type": "code",
   "execution_count": 3,
   "metadata": {},
   "outputs": [
    {
     "name": "stdout",
     "output_type": "stream",
     "text": [
      "Bàn: 5.102040620694932\n",
      "Ghế: 30.61224372417045\n",
      "Tủ: 153.06122473471245\n",
      "96836.7346491086\n"
     ]
    }
   ],
   "source": [
    "import cvxpy as cp\n",
    "import numpy as np\n",
    "\n",
    "c = np.array([260, 120, 600])\n",
    "A = np.array([[2, 1, 3], [100, 40, 250]])\n",
    "b = np.array([500, 40000])\n",
    "x = cp.Variable(3)\n",
    "constraint = [A@x <= b, x >=0, 6 * x[0] == x[1]]\n",
    "prob = cp.Problem(cp.Maximize(c.T@x), constraint)\n",
    "prob.solve() \n",
    "print(f'Bàn: {x[0].value}')\n",
    "print(f'Ghế: {x[1].value}')\n",
    "print(f'Tủ: {x[2].value}')\n",
    "print(prob.value)"
   ]
  },
  {
   "cell_type": "markdown",
   "metadata": {
    "id": "dLqKbo8CeQy1"
   },
   "source": [
    "### Câu 2 (4 điểm)"
   ]
  },
  {
   "cell_type": "markdown",
   "metadata": {
    "id": "W00lHNXQfg15"
   },
   "source": [
    "1. Cho một hàm số mục tiêu $f(x)=x^2+\\sin \\left(\\dfrac{x}{2}\\right)+2023x.$\n",
    "Hãy tính đạo hàm của hàm số này.\n",
    "\n",
    "\n",
    "2. Sử dụng thuật toán Gradient Descent, hãy tìm giá trị của $x$ để tối ưu hóa hàm số $f(x)=x^2+\\sin \\left(\\dfrac{x}{2}\\right)+2023x,$ với giá trị $x$ ban đầu là $x^{(0)}=2024$, sử dụng learning rate là $0.9$ và thực hiện tối đa $100$ vòng lặp. In ra giá trị của $x$ và $f(x)$ tương ứng sau mỗi vòng lặp.\n",
    "\n",
    "\n",
    "3. Bằng cách thay đổi giá trị learning rate trong thuật toán trên, hãy giải thích sự quan trọng của việc điều chỉnh tham số learning rate trong thuật toán Gradient Descent và cách lựa chọn giá trị tối ưu của nó.\n",
    "\n",
    "\n",
    "4. Hãy trình bày một ví dụ cụ thể về một vấn đề thực tế trong học máy hoặc khoa học dữ liệu mà Gradient Descent có thể được sử dụng để giải quyết.\n",
    "\n",
    "Code mẫu (câu 2.1, 2.2):"
   ]
  },
  {
   "cell_type": "markdown",
   "metadata": {},
   "source": [
    "Đạo hàm: f'(x) = 2x + 1/2 cos(x/2) + 2023"
   ]
  },
  {
   "cell_type": "code",
   "execution_count": 4,
   "metadata": {},
   "outputs": [
    {
     "name": "stdout",
     "output_type": "stream",
     "text": [
      "Giá trị x sau mỗi vòng lặp: [2024, -3440.31321113998, 931.4901692736894, -2566.2090665245314, 232.162007539132, -2005.9852059053846, -215.60633475570125, -1648.4622122708645, -502.12066657322, -1419.437512399157, -685.5823175434986, -1271.812606777561, -803.368298704932, -1178.41255479367, -878.040607323064, -1118.580169839656, -926.2841780703264, -1079.5644559419975, -957.4268752629223, -1054.925180804365, -977.1863017178842, -1038.984898317487, -989.3199466041582, -1029.1808608304812, -997.7187208550102, -1022.1678426275174, -1002.7209567757886, -1018.6460586155096, -1006.200209119156, -1016.1459532533554, -1008.075114059658, -1014.3240395173099, -1009.1490777837269, -1013.2268912344041, -1009.8105111197456, -1012.5687620980149, -1010.2475101332634, -1012.150017316939, -1010.5473364585363, -1011.8722283423956, -1010.7566011179829, -1011.6834842348153, -1010.9036747607828, -1011.5535123327104, -1011.0072771064323, -1011.4633277908058, -1011.0802808614211, -1011.4004721125096, -1011.1317021399092, -1011.356546562623, -1011.1678996468509, -1011.3257991700891, -1011.1933657749264, -1011.304253685315, -1011.2112733659412, -1011.2891458718407, -1011.223861097511, -1011.2785473768732, -1011.2327068448959, -1011.2711100036126, -1011.2389217004651, -1011.2658898246146, -1011.2432874818517, -1011.2622253363916, -1011.24635400266, -1011.259652665685, -1011.248507757929, -1011.2578463864658, -1011.2500203542262, -1011.2565781321813, -1011.2510826193268, -1011.2556876150213, -1011.2518286057776, -1011.2550623150767, -1011.2523524722607, -1011.2546232371644, -1011.2527203507609, -1011.2543149185337, -1011.2529786862464, -1011.2540984167708, -1011.2531600960765, -1011.2539463880807, -1011.2532874861312, -1011.253839632303, -1011.2533769419914, -1011.2537646673226, -1011.253439759551, -1011.2537120260571, -1011.2534838711312, -1011.2536750607089, -1011.2535148470126, -1011.2536491031588, -1011.2535365987716, -1011.2536308754156, -1011.2535518731956, -1011.2536180756417, -1011.2535625991301, -1011.2536090874603, -1011.253570131043, -1011.2536027758312, -1011.2535754200651]\n",
      "Giá trị f(x) tương ứng: -1023132.3580921224\n"
     ]
    }
   ],
   "source": [
    "import numpy as np\n",
    "\n",
    "# Hàm số mục tiêu\n",
    "def objective_function(x):\n",
    "    \n",
    "    return x**2 + np.sin(x/2) + 2023*x\n",
    "\n",
    "# Đạo hàm của hàm số mục tiêu\n",
    "def gradient(x):\n",
    "    \n",
    "    return 2*x+(1/2)*np.cos(x/2)+2023\n",
    "\n",
    "def gradient_descent(learning_rate, max_iterations, initial_x):\n",
    "    x = [initial_x]\n",
    "    for i in range(max_iterations):\n",
    "        grad_x = gradient(x[-1])\n",
    "        x_new = x[-1] - learning_rate * grad_x\n",
    "        if abs(gradient(x_new)) < 1e-5:\n",
    "            break\n",
    "        x.append(x_new) \n",
    "    return x\n",
    "\n",
    "learning_rate = 0.9\n",
    "max_iterations = 100\n",
    "initial_x = 2024\n",
    "# x, it = gradient_descent(learning_rate, max_iterations, initial_x)\n",
    "\n",
    "final_x = gradient_descent(learning_rate, max_iterations, initial_x)\n",
    "print(\"Giá trị x sau mỗi vòng lặp:\", final_x)\n",
    "print(\"Giá trị f(x) tương ứng:\", objective_function(final_x[-1]))"
   ]
  },
  {
   "cell_type": "markdown",
   "metadata": {},
   "source": [
    "Câu 2.3:"
   ]
  },
  {
   "cell_type": "markdown",
   "metadata": {},
   "source": [
    "Thế nhưng có khi nào di chuyển ngược chiều đạo hàm mà khiến giá trị $f(x)$ lớn hơn không? Đó là khi ta đã vượt dốc, chẳng hạn như khi đã đến rất gần điểm cực trị $(x^*, y^*)$ nhưng _learning rate_ quá lớn làm cho khoảng thay đổi ở bước tiếp theo cũng lớn theo và là nguyên nhân khiến nghiệm cập nhật vượt quá điểm cực trị. Trường hợp này gọi là nhảy dốc (_Step Over_).\n",
    "\n",
    "\n",
    "![](https://i.imgur.com/0g58QdZ.jpeg.jpeg)\n",
    "\n",
    "**Hình 2:** Hình bên trái là chiến lược học tập được thiết lập với hệ số học tập phù hợp. Hình bên phải xảy ra hiện tượng _nhảy dốc_. Sau mỗi lượt cập nhật nghiệm thì các điểm có xu hướng nhảy qua lại hai bên xung quanh cực trị địa phương thay vì hội tụ từ từ.\n",
    "\n",
    "Để hạn chế hiện tượng _nhảy dốc_ thì ta cần lựa chọn $\\alpha$ rất nhỏ từ $0.001$ tới $0.005$ và áp dụng những phương pháp tối ưu (_optimizer_) khác nhau để kiểm soát quá trình huấn luyện"
   ]
  },
  {
   "cell_type": "markdown",
   "metadata": {},
   "source": [
    "Câu 2.4:"
   ]
  },
  {
   "cell_type": "markdown",
   "metadata": {},
   "source": [
    "Bộ dữ liệu HMEQ bao gồm các đặc trưng thông tin về nợ của 5960 khoản vay mua nhà. Đây là những khoản vay mua nhà mà người vay sử dụng vốn chủ sở hữu làm tài sản thế chấp. Tập dữ liệu bao gồm những trường sau:\n",
    "\n",
    "* BAD: 1 = Hồ sơ vay là vi phạm hoặc mất khả năng trả nợ; 0 = hồ sơ vay đã và đang trả nợ.\n",
    "* LOAN: Số tiền yêu cầu cho vay.\n",
    "* MORTDUE: Số tiền đến hạn của khoản thế chấp hiện có.\n",
    "* VALUE: Giá trị tài sản hiện tại.\n",
    "* REASON: DebtCon = nợ hợp nhất; HomeImp = cải thiện nhà.\n",
    "* JOB: Thể loại nghề nghiệp.\n",
    "* YOJ: Số năm kinh nghiệm trong nghề nghiệp hiện tại.\n",
    "* DEROG: Số lượng báo cáo không tín nhiệm.\n",
    "* DELINQ: Số hạn mức tín dụng quá hạn.\n",
    "* CLAGE: Tuổi của hạn mức tín dụng cũ nhất tính theo tháng.\n",
    "* NINQ: Số câu hỏi tín dụng gần đây.\n",
    "* CLNO: Số lượng hạn mức tín dụng.\n",
    "* DEBTINC: Tỷ lệ nợ trên thu nhập.\n",
    "\n",
    "Mục tiêu sẽ là dựa vào các biến đầu vào để phân loại một hồ sơ có khả năng nợ xấu hay không.\n",
    "\n",
    "Như thông lệ, qui trình xây dựng mô hình sẽ bao gồm các bước theo tuần tự:\n",
    "\n",
    "1. Khảo sát dữ liệu.\n",
    "2. Phân chia tập huấn luyện/kiểm tra.\n",
    "3. Xử lý missing và outliers.\n",
    "4. Lựa chọn mô hình.\n",
    "5. Huấn luyện mô hình.\n",
    "6. Đánh giá mô hình."
   ]
  },
  {
   "cell_type": "markdown",
   "metadata": {},
   "source": [
    "### Câu 3 (3 điểm)"
   ]
  },
  {
   "cell_type": "markdown",
   "metadata": {
    "id": "V5_DJ49xgi-x"
   },
   "source": [
    "Gọi $\\gamma=\\overline{\\gamma_1\\gamma_2\\gamma_3\\gamma_4\\gamma_5\\gamma_6\\gamma_7\\gamma_8}$ là mã số sinh viên của anh/chị. Đặt $\\alpha=\\gamma_7$ và $\\beta=\\sum_{i=1}^8\\gamma_i$, xét bài toán tối ưu |sau\n",
    "\\begin{align}\n",
    "\\min_{x=(x_1,x_2)\\in \\mathbb{R}^2} f(x)=\\dfrac{1}{2}x_1^2+\\dfrac{1}{2}x_2^2+(\\alpha+1) x_2-\\beta\\quad (1)\n",
    "\\end{align}"
   ]
  },
  {
   "cell_type": "markdown",
   "metadata": {},
   "source": [
    "$\\gamma=\\overline{21003901}$ <br>\n",
    "$\\alpha={0}$ và $\\beta=\\sum_{i=1}^8\\gamma_i$<br>\n",
    "\\begin{align}\n",
    "\\min_{x=(x_1,x_2)\\in \\mathbb{R}^2} f(x)=\\dfrac{1}{2}x_1^2+\\dfrac{1}{2}x_2^2+(1) x_2-16\\quad (1)\n",
    "\\end{align}"
   ]
  },
  {
   "cell_type": "markdown",
   "metadata": {},
   "source": [
    "1. Hãy tìm $\\alpha,\\beta$ và giá trị tối ưu $p^*$ của bài toán (1)."
   ]
  },
  {
   "cell_type": "code",
   "execution_count": 8,
   "metadata": {},
   "outputs": [
    {
     "name": "stdout",
     "output_type": "stream",
     "text": [
      "x và y: (7.968419666276241e-05, -0.999867193005562, (-16.499999988006365, {99}))\n"
     ]
    }
   ],
   "source": [
    "def gradient(x, y):\n",
    "    grad_x = x\n",
    "    grad_y = y + 1\n",
    "    return grad_x, grad_y\n",
    "\n",
    "def cost(x, y):\n",
    "    return (1/2) * x**2 + (1/2) * y**2 + y - 16\n",
    "\n",
    "def gradient_descent(eta, x0, y0, max_iter=100, epsilon=1e-5):\n",
    "    x = [x0]\n",
    "    y = [y0]\n",
    "    for i in range(max_iter):\n",
    "        grad_x, grad_y = gradient(x[-1], y[-1])\n",
    "        x_new = x[-1] - eta * grad_x\n",
    "        y_new = y[-1] - eta * grad_y\n",
    "        x.append(x_new)\n",
    "        y.append(y_new)\n",
    "        if np.sqrt(grad_x**2 + grad_y**2) < epsilon:\n",
    "            break\n",
    "    return x, y, i\n",
    "\n",
    "# Áp dụng GD để tối ưu hóa hàm f(x, y)\n",
    "x0, y0 = 3, 4  # Giá trị khởi tạo\n",
    "eta = 0.1  # Learning rate\n",
    "x, y, it = gradient_descent(eta, x0, y0)\n",
    "print(f'x và y: ({x[-1]}, {y[-1]}, {cost(x[-1], y[-1]), {it}})')"
   ]
  },
  {
   "cell_type": "markdown",
   "metadata": {},
   "source": [
    "2. Sử dụng thuật toán Gradient Descent cho bài toán (1) với learning rate là $\\dfrac{1}{\\alpha+1}$ và điểm khởi tạo $x^{(0)}=(1,0)$, hãy tìm công thức cho điểm cập nhật $x^{(k)}$. "
   ]
  },
  {
   "cell_type": "code",
   "execution_count": 9,
   "metadata": {},
   "outputs": [
    {
     "name": "stdout",
     "output_type": "stream",
     "text": [
      "x và y: (0, -1, (-16.499999988006365, {1}))\n"
     ]
    }
   ],
   "source": [
    "def gradient(x, y):\n",
    "    grad_x = x\n",
    "    grad_y = y + 1\n",
    "    return grad_x, grad_y\n",
    "\n",
    "def cost(x, y):\n",
    "    return (1/2) * x**2 + (1/2) * y**2 + y - 16\n",
    "\n",
    "def gradient_descent(eta, x0, y0, max_iter=100, epsilon=1e-5):\n",
    "    x = [x0]\n",
    "    y = [y0]\n",
    "    for i in range(max_iter):\n",
    "        grad_x, grad_y = gradient(x[-1], y[-1])\n",
    "        x_new = x[-1] - eta * grad_x\n",
    "        y_new = y[-1] - eta * grad_y\n",
    "        x.append(x_new)\n",
    "        y.append(y_new)\n",
    "        if np.sqrt(grad_x**2 + grad_y**2) < epsilon:\n",
    "            break\n",
    "    return x, y, i\n",
    "\n",
    "# Áp dụng GD để tối ưu hóa hàm f(x, y)\n",
    "x0, y0 = 1, 0  # Giá trị khởi tạo\n",
    "eta = 1  # Learning rate\n",
    "x2, y2, it = gradient_descent(eta, x0, y0)\n",
    "print(f'x và y: ({x2[-1]}, {y2[-1]}, {cost(x[-1], y[-1]), {it}})')"
   ]
  },
  {
   "cell_type": "markdown",
   "metadata": {},
   "source": [
    "3. Gọi $x^*$ là điểm tối ưu của (1), hãy vẽ đồ thị biểu thị cho sai số $\\text{err}_k=\\|\\nabla f(x^*)-\\nabla f(x^{(k)})\\|_2^2$. Từ đó anh/chị rút ra được kết luận gì?"
   ]
  },
  {
   "cell_type": "code",
   "execution_count": 18,
   "metadata": {},
   "outputs": [
    {
     "ename": "NameError",
     "evalue": "name 'x_star' is not defined",
     "output_type": "error",
     "traceback": [
      "\u001b[1;31m---------------------------------------------------------------------------\u001b[0m",
      "\u001b[1;31mNameError\u001b[0m                                 Traceback (most recent call last)",
      "\u001b[1;32mc:\\Users\\Dung03\\OneDrive - Industrial University of HoChiMinh City\\Desktop\\ToiUuHoa\\21003901_NguyenTienDung_ThiGK.ipynb Cell 23\u001b[0m line \u001b[0;36m1\n\u001b[0;32m     <a href='vscode-notebook-cell:/c%3A/Users/Dung03/OneDrive%20-%20Industrial%20University%20of%20HoChiMinh%20City/Desktop/ToiUuHoa/21003901_NguyenTienDung_ThiGK.ipynb#X34sZmlsZQ%3D%3D?line=11'>12</a>\u001b[0m plt\u001b[39m.\u001b[39mtext(x2, y2, \u001b[39m\"\u001b[39m\u001b[39m(x2, y2)\u001b[39m\u001b[39m\"\u001b[39m)\n\u001b[0;32m     <a href='vscode-notebook-cell:/c%3A/Users/Dung03/OneDrive%20-%20Industrial%20University%20of%20HoChiMinh%20City/Desktop/ToiUuHoa/21003901_NguyenTienDung_ThiGK.ipynb#X34sZmlsZQ%3D%3D?line=12'>13</a>\u001b[0m plt\u001b[39m.\u001b[39mtext(x[\u001b[39m-\u001b[39m\u001b[39m1\u001b[39m], y[\u001b[39m-\u001b[39m\u001b[39m1\u001b[39m], \u001b[39m\"\u001b[39m\u001b[39m(x*, y*)\u001b[39m\u001b[39m\"\u001b[39m)\n\u001b[1;32m---> <a href='vscode-notebook-cell:/c%3A/Users/Dung03/OneDrive%20-%20Industrial%20University%20of%20HoChiMinh%20City/Desktop/ToiUuHoa/21003901_NguyenTienDung_ThiGK.ipynb#X34sZmlsZQ%3D%3D?line=13'>14</a>\u001b[0m plt\u001b[39m.\u001b[39mplot(x_star, y_star, marker\u001b[39m=\u001b[39m\u001b[39m\"\u001b[39m\u001b[39mo\u001b[39m\u001b[39m\"\u001b[39m, markersize\u001b[39m=\u001b[39m\u001b[39m15\u001b[39m, color\u001b[39m=\u001b[39m\u001b[39m\"\u001b[39m\u001b[39mgreen\u001b[39m\u001b[39m\"\u001b[39m)\n\u001b[0;32m     <a href='vscode-notebook-cell:/c%3A/Users/Dung03/OneDrive%20-%20Industrial%20University%20of%20HoChiMinh%20City/Desktop/ToiUuHoa/21003901_NguyenTienDung_ThiGK.ipynb#X34sZmlsZQ%3D%3D?line=14'>15</a>\u001b[0m plt\u001b[39m.\u001b[39mplot(x, y_grad, linestyle\u001b[39m=\u001b[39m\u001b[39m'\u001b[39m\u001b[39m-\u001b[39m\u001b[39m'\u001b[39m)\n\u001b[0;32m     <a href='vscode-notebook-cell:/c%3A/Users/Dung03/OneDrive%20-%20Industrial%20University%20of%20HoChiMinh%20City/Desktop/ToiUuHoa/21003901_NguyenTienDung_ThiGK.ipynb#X34sZmlsZQ%3D%3D?line=15'>16</a>\u001b[0m plt\u001b[39m.\u001b[39maxhline(\u001b[39m0\u001b[39m)\n",
      "\u001b[1;31mNameError\u001b[0m: name 'x_star' is not defined"
     ]
    },
    {
     "name": "stdout",
     "output_type": "stream",
     "text": [
      "Error in callback <function _draw_all_if_interactive at 0x0000028FFACCCD60> (for post_execute):\n"
     ]
    },
    {
     "ename": "TypeError",
     "evalue": "float() argument must be a string or a real number, not 'list'",
     "output_type": "error",
     "traceback": [
      "\u001b[1;31m---------------------------------------------------------------------------\u001b[0m",
      "\u001b[1;31mTypeError\u001b[0m                                 Traceback (most recent call last)",
      "File \u001b[1;32mc:\\Users\\Dung03\\AppData\\Local\\Programs\\Python\\Python311\\Lib\\site-packages\\matplotlib\\pyplot.py:120\u001b[0m, in \u001b[0;36m_draw_all_if_interactive\u001b[1;34m()\u001b[0m\n\u001b[0;32m    118\u001b[0m \u001b[39mdef\u001b[39;00m \u001b[39m_draw_all_if_interactive\u001b[39m():\n\u001b[0;32m    119\u001b[0m     \u001b[39mif\u001b[39;00m matplotlib\u001b[39m.\u001b[39mis_interactive():\n\u001b[1;32m--> 120\u001b[0m         draw_all()\n",
      "File \u001b[1;32mc:\\Users\\Dung03\\AppData\\Local\\Programs\\Python\\Python311\\Lib\\site-packages\\matplotlib\\_pylab_helpers.py:132\u001b[0m, in \u001b[0;36mGcf.draw_all\u001b[1;34m(cls, force)\u001b[0m\n\u001b[0;32m    130\u001b[0m \u001b[39mfor\u001b[39;00m manager \u001b[39min\u001b[39;00m \u001b[39mcls\u001b[39m\u001b[39m.\u001b[39mget_all_fig_managers():\n\u001b[0;32m    131\u001b[0m     \u001b[39mif\u001b[39;00m force \u001b[39mor\u001b[39;00m manager\u001b[39m.\u001b[39mcanvas\u001b[39m.\u001b[39mfigure\u001b[39m.\u001b[39mstale:\n\u001b[1;32m--> 132\u001b[0m         manager\u001b[39m.\u001b[39;49mcanvas\u001b[39m.\u001b[39;49mdraw_idle()\n",
      "File \u001b[1;32mc:\\Users\\Dung03\\AppData\\Local\\Programs\\Python\\Python311\\Lib\\site-packages\\matplotlib\\backend_bases.py:2082\u001b[0m, in \u001b[0;36mFigureCanvasBase.draw_idle\u001b[1;34m(self, *args, **kwargs)\u001b[0m\n\u001b[0;32m   2080\u001b[0m \u001b[39mif\u001b[39;00m \u001b[39mnot\u001b[39;00m \u001b[39mself\u001b[39m\u001b[39m.\u001b[39m_is_idle_drawing:\n\u001b[0;32m   2081\u001b[0m     \u001b[39mwith\u001b[39;00m \u001b[39mself\u001b[39m\u001b[39m.\u001b[39m_idle_draw_cntx():\n\u001b[1;32m-> 2082\u001b[0m         \u001b[39mself\u001b[39;49m\u001b[39m.\u001b[39;49mdraw(\u001b[39m*\u001b[39;49margs, \u001b[39m*\u001b[39;49m\u001b[39m*\u001b[39;49mkwargs)\n",
      "File \u001b[1;32mc:\\Users\\Dung03\\AppData\\Local\\Programs\\Python\\Python311\\Lib\\site-packages\\matplotlib\\backends\\backend_agg.py:400\u001b[0m, in \u001b[0;36mFigureCanvasAgg.draw\u001b[1;34m(self)\u001b[0m\n\u001b[0;32m    396\u001b[0m \u001b[39m# Acquire a lock on the shared font cache.\u001b[39;00m\n\u001b[0;32m    397\u001b[0m \u001b[39mwith\u001b[39;00m RendererAgg\u001b[39m.\u001b[39mlock, \\\n\u001b[0;32m    398\u001b[0m      (\u001b[39mself\u001b[39m\u001b[39m.\u001b[39mtoolbar\u001b[39m.\u001b[39m_wait_cursor_for_draw_cm() \u001b[39mif\u001b[39;00m \u001b[39mself\u001b[39m\u001b[39m.\u001b[39mtoolbar\n\u001b[0;32m    399\u001b[0m       \u001b[39melse\u001b[39;00m nullcontext()):\n\u001b[1;32m--> 400\u001b[0m     \u001b[39mself\u001b[39;49m\u001b[39m.\u001b[39;49mfigure\u001b[39m.\u001b[39;49mdraw(\u001b[39mself\u001b[39;49m\u001b[39m.\u001b[39;49mrenderer)\n\u001b[0;32m    401\u001b[0m     \u001b[39m# A GUI class may be need to update a window using this draw, so\u001b[39;00m\n\u001b[0;32m    402\u001b[0m     \u001b[39m# don't forget to call the superclass.\u001b[39;00m\n\u001b[0;32m    403\u001b[0m     \u001b[39msuper\u001b[39m()\u001b[39m.\u001b[39mdraw()\n",
      "File \u001b[1;32mc:\\Users\\Dung03\\AppData\\Local\\Programs\\Python\\Python311\\Lib\\site-packages\\matplotlib\\artist.py:95\u001b[0m, in \u001b[0;36m_finalize_rasterization.<locals>.draw_wrapper\u001b[1;34m(artist, renderer, *args, **kwargs)\u001b[0m\n\u001b[0;32m     93\u001b[0m \u001b[39m@wraps\u001b[39m(draw)\n\u001b[0;32m     94\u001b[0m \u001b[39mdef\u001b[39;00m \u001b[39mdraw_wrapper\u001b[39m(artist, renderer, \u001b[39m*\u001b[39margs, \u001b[39m*\u001b[39m\u001b[39m*\u001b[39mkwargs):\n\u001b[1;32m---> 95\u001b[0m     result \u001b[39m=\u001b[39m draw(artist, renderer, \u001b[39m*\u001b[39;49margs, \u001b[39m*\u001b[39;49m\u001b[39m*\u001b[39;49mkwargs)\n\u001b[0;32m     96\u001b[0m     \u001b[39mif\u001b[39;00m renderer\u001b[39m.\u001b[39m_rasterizing:\n\u001b[0;32m     97\u001b[0m         renderer\u001b[39m.\u001b[39mstop_rasterizing()\n",
      "File \u001b[1;32mc:\\Users\\Dung03\\AppData\\Local\\Programs\\Python\\Python311\\Lib\\site-packages\\matplotlib\\artist.py:72\u001b[0m, in \u001b[0;36mallow_rasterization.<locals>.draw_wrapper\u001b[1;34m(artist, renderer)\u001b[0m\n\u001b[0;32m     69\u001b[0m     \u001b[39mif\u001b[39;00m artist\u001b[39m.\u001b[39mget_agg_filter() \u001b[39mis\u001b[39;00m \u001b[39mnot\u001b[39;00m \u001b[39mNone\u001b[39;00m:\n\u001b[0;32m     70\u001b[0m         renderer\u001b[39m.\u001b[39mstart_filter()\n\u001b[1;32m---> 72\u001b[0m     \u001b[39mreturn\u001b[39;00m draw(artist, renderer)\n\u001b[0;32m     73\u001b[0m \u001b[39mfinally\u001b[39;00m:\n\u001b[0;32m     74\u001b[0m     \u001b[39mif\u001b[39;00m artist\u001b[39m.\u001b[39mget_agg_filter() \u001b[39mis\u001b[39;00m \u001b[39mnot\u001b[39;00m \u001b[39mNone\u001b[39;00m:\n",
      "File \u001b[1;32mc:\\Users\\Dung03\\AppData\\Local\\Programs\\Python\\Python311\\Lib\\site-packages\\matplotlib\\figure.py:3140\u001b[0m, in \u001b[0;36mFigure.draw\u001b[1;34m(self, renderer)\u001b[0m\n\u001b[0;32m   3137\u001b[0m         \u001b[39m# ValueError can occur when resizing a window.\u001b[39;00m\n\u001b[0;32m   3139\u001b[0m \u001b[39mself\u001b[39m\u001b[39m.\u001b[39mpatch\u001b[39m.\u001b[39mdraw(renderer)\n\u001b[1;32m-> 3140\u001b[0m mimage\u001b[39m.\u001b[39;49m_draw_list_compositing_images(\n\u001b[0;32m   3141\u001b[0m     renderer, \u001b[39mself\u001b[39;49m, artists, \u001b[39mself\u001b[39;49m\u001b[39m.\u001b[39;49msuppressComposite)\n\u001b[0;32m   3143\u001b[0m \u001b[39mfor\u001b[39;00m sfig \u001b[39min\u001b[39;00m \u001b[39mself\u001b[39m\u001b[39m.\u001b[39msubfigs:\n\u001b[0;32m   3144\u001b[0m     sfig\u001b[39m.\u001b[39mdraw(renderer)\n",
      "File \u001b[1;32mc:\\Users\\Dung03\\AppData\\Local\\Programs\\Python\\Python311\\Lib\\site-packages\\matplotlib\\image.py:131\u001b[0m, in \u001b[0;36m_draw_list_compositing_images\u001b[1;34m(renderer, parent, artists, suppress_composite)\u001b[0m\n\u001b[0;32m    129\u001b[0m \u001b[39mif\u001b[39;00m not_composite \u001b[39mor\u001b[39;00m \u001b[39mnot\u001b[39;00m has_images:\n\u001b[0;32m    130\u001b[0m     \u001b[39mfor\u001b[39;00m a \u001b[39min\u001b[39;00m artists:\n\u001b[1;32m--> 131\u001b[0m         a\u001b[39m.\u001b[39;49mdraw(renderer)\n\u001b[0;32m    132\u001b[0m \u001b[39melse\u001b[39;00m:\n\u001b[0;32m    133\u001b[0m     \u001b[39m# Composite any adjacent images together\u001b[39;00m\n\u001b[0;32m    134\u001b[0m     image_group \u001b[39m=\u001b[39m []\n",
      "File \u001b[1;32mc:\\Users\\Dung03\\AppData\\Local\\Programs\\Python\\Python311\\Lib\\site-packages\\matplotlib\\artist.py:72\u001b[0m, in \u001b[0;36mallow_rasterization.<locals>.draw_wrapper\u001b[1;34m(artist, renderer)\u001b[0m\n\u001b[0;32m     69\u001b[0m     \u001b[39mif\u001b[39;00m artist\u001b[39m.\u001b[39mget_agg_filter() \u001b[39mis\u001b[39;00m \u001b[39mnot\u001b[39;00m \u001b[39mNone\u001b[39;00m:\n\u001b[0;32m     70\u001b[0m         renderer\u001b[39m.\u001b[39mstart_filter()\n\u001b[1;32m---> 72\u001b[0m     \u001b[39mreturn\u001b[39;00m draw(artist, renderer)\n\u001b[0;32m     73\u001b[0m \u001b[39mfinally\u001b[39;00m:\n\u001b[0;32m     74\u001b[0m     \u001b[39mif\u001b[39;00m artist\u001b[39m.\u001b[39mget_agg_filter() \u001b[39mis\u001b[39;00m \u001b[39mnot\u001b[39;00m \u001b[39mNone\u001b[39;00m:\n",
      "File \u001b[1;32mc:\\Users\\Dung03\\AppData\\Local\\Programs\\Python\\Python311\\Lib\\site-packages\\matplotlib\\axes\\_base.py:3064\u001b[0m, in \u001b[0;36m_AxesBase.draw\u001b[1;34m(self, renderer)\u001b[0m\n\u001b[0;32m   3061\u001b[0m \u001b[39mif\u001b[39;00m artists_rasterized:\n\u001b[0;32m   3062\u001b[0m     _draw_rasterized(\u001b[39mself\u001b[39m\u001b[39m.\u001b[39mfigure, artists_rasterized, renderer)\n\u001b[1;32m-> 3064\u001b[0m mimage\u001b[39m.\u001b[39;49m_draw_list_compositing_images(\n\u001b[0;32m   3065\u001b[0m     renderer, \u001b[39mself\u001b[39;49m, artists, \u001b[39mself\u001b[39;49m\u001b[39m.\u001b[39;49mfigure\u001b[39m.\u001b[39;49msuppressComposite)\n\u001b[0;32m   3067\u001b[0m renderer\u001b[39m.\u001b[39mclose_group(\u001b[39m'\u001b[39m\u001b[39maxes\u001b[39m\u001b[39m'\u001b[39m)\n\u001b[0;32m   3068\u001b[0m \u001b[39mself\u001b[39m\u001b[39m.\u001b[39mstale \u001b[39m=\u001b[39m \u001b[39mFalse\u001b[39;00m\n",
      "File \u001b[1;32mc:\\Users\\Dung03\\AppData\\Local\\Programs\\Python\\Python311\\Lib\\site-packages\\matplotlib\\image.py:131\u001b[0m, in \u001b[0;36m_draw_list_compositing_images\u001b[1;34m(renderer, parent, artists, suppress_composite)\u001b[0m\n\u001b[0;32m    129\u001b[0m \u001b[39mif\u001b[39;00m not_composite \u001b[39mor\u001b[39;00m \u001b[39mnot\u001b[39;00m has_images:\n\u001b[0;32m    130\u001b[0m     \u001b[39mfor\u001b[39;00m a \u001b[39min\u001b[39;00m artists:\n\u001b[1;32m--> 131\u001b[0m         a\u001b[39m.\u001b[39;49mdraw(renderer)\n\u001b[0;32m    132\u001b[0m \u001b[39melse\u001b[39;00m:\n\u001b[0;32m    133\u001b[0m     \u001b[39m# Composite any adjacent images together\u001b[39;00m\n\u001b[0;32m    134\u001b[0m     image_group \u001b[39m=\u001b[39m []\n",
      "File \u001b[1;32mc:\\Users\\Dung03\\AppData\\Local\\Programs\\Python\\Python311\\Lib\\site-packages\\matplotlib\\artist.py:72\u001b[0m, in \u001b[0;36mallow_rasterization.<locals>.draw_wrapper\u001b[1;34m(artist, renderer)\u001b[0m\n\u001b[0;32m     69\u001b[0m     \u001b[39mif\u001b[39;00m artist\u001b[39m.\u001b[39mget_agg_filter() \u001b[39mis\u001b[39;00m \u001b[39mnot\u001b[39;00m \u001b[39mNone\u001b[39;00m:\n\u001b[0;32m     70\u001b[0m         renderer\u001b[39m.\u001b[39mstart_filter()\n\u001b[1;32m---> 72\u001b[0m     \u001b[39mreturn\u001b[39;00m draw(artist, renderer)\n\u001b[0;32m     73\u001b[0m \u001b[39mfinally\u001b[39;00m:\n\u001b[0;32m     74\u001b[0m     \u001b[39mif\u001b[39;00m artist\u001b[39m.\u001b[39mget_agg_filter() \u001b[39mis\u001b[39;00m \u001b[39mnot\u001b[39;00m \u001b[39mNone\u001b[39;00m:\n",
      "File \u001b[1;32mc:\\Users\\Dung03\\AppData\\Local\\Programs\\Python\\Python311\\Lib\\site-packages\\matplotlib\\text.py:757\u001b[0m, in \u001b[0;36mText.draw\u001b[1;34m(self, renderer)\u001b[0m\n\u001b[0;32m    753\u001b[0m trans \u001b[39m=\u001b[39m \u001b[39mself\u001b[39m\u001b[39m.\u001b[39mget_transform()\n\u001b[0;32m    755\u001b[0m \u001b[39m# don't use self.get_position here, which refers to text\u001b[39;00m\n\u001b[0;32m    756\u001b[0m \u001b[39m# position in Text:\u001b[39;00m\n\u001b[1;32m--> 757\u001b[0m posx \u001b[39m=\u001b[39m \u001b[39mfloat\u001b[39m(\u001b[39mself\u001b[39m\u001b[39m.\u001b[39mconvert_xunits(\u001b[39mself\u001b[39m\u001b[39m.\u001b[39m_x))\n\u001b[0;32m    758\u001b[0m posy \u001b[39m=\u001b[39m \u001b[39mfloat\u001b[39m(\u001b[39mself\u001b[39m\u001b[39m.\u001b[39mconvert_yunits(\u001b[39mself\u001b[39m\u001b[39m.\u001b[39m_y))\n\u001b[0;32m    759\u001b[0m posx, posy \u001b[39m=\u001b[39m trans\u001b[39m.\u001b[39mtransform((posx, posy))\n",
      "\u001b[1;31mTypeError\u001b[0m: float() argument must be a string or a real number, not 'list'"
     ]
    },
    {
     "ename": "TypeError",
     "evalue": "float() argument must be a string or a real number, not 'list'",
     "output_type": "error",
     "traceback": [
      "\u001b[1;31m---------------------------------------------------------------------------\u001b[0m",
      "\u001b[1;31mTypeError\u001b[0m                                 Traceback (most recent call last)",
      "File \u001b[1;32m~\\AppData\\Roaming\\Python\\Python311\\site-packages\\IPython\\core\\formatters.py:340\u001b[0m, in \u001b[0;36mBaseFormatter.__call__\u001b[1;34m(self, obj)\u001b[0m\n\u001b[0;32m    338\u001b[0m     \u001b[39mpass\u001b[39;00m\n\u001b[0;32m    339\u001b[0m \u001b[39melse\u001b[39;00m:\n\u001b[1;32m--> 340\u001b[0m     \u001b[39mreturn\u001b[39;00m printer(obj)\n\u001b[0;32m    341\u001b[0m \u001b[39m# Finally look for special method names\u001b[39;00m\n\u001b[0;32m    342\u001b[0m method \u001b[39m=\u001b[39m get_real_method(obj, \u001b[39mself\u001b[39m\u001b[39m.\u001b[39mprint_method)\n",
      "File \u001b[1;32m~\\AppData\\Roaming\\Python\\Python311\\site-packages\\IPython\\core\\pylabtools.py:152\u001b[0m, in \u001b[0;36mprint_figure\u001b[1;34m(fig, fmt, bbox_inches, base64, **kwargs)\u001b[0m\n\u001b[0;32m    149\u001b[0m     \u001b[39mfrom\u001b[39;00m \u001b[39mmatplotlib\u001b[39;00m\u001b[39m.\u001b[39;00m\u001b[39mbackend_bases\u001b[39;00m \u001b[39mimport\u001b[39;00m FigureCanvasBase\n\u001b[0;32m    150\u001b[0m     FigureCanvasBase(fig)\n\u001b[1;32m--> 152\u001b[0m fig\u001b[39m.\u001b[39;49mcanvas\u001b[39m.\u001b[39;49mprint_figure(bytes_io, \u001b[39m*\u001b[39;49m\u001b[39m*\u001b[39;49mkw)\n\u001b[0;32m    153\u001b[0m data \u001b[39m=\u001b[39m bytes_io\u001b[39m.\u001b[39mgetvalue()\n\u001b[0;32m    154\u001b[0m \u001b[39mif\u001b[39;00m fmt \u001b[39m==\u001b[39m \u001b[39m'\u001b[39m\u001b[39msvg\u001b[39m\u001b[39m'\u001b[39m:\n",
      "File \u001b[1;32mc:\\Users\\Dung03\\AppData\\Local\\Programs\\Python\\Python311\\Lib\\site-packages\\matplotlib\\backend_bases.py:2342\u001b[0m, in \u001b[0;36mFigureCanvasBase.print_figure\u001b[1;34m(self, filename, dpi, facecolor, edgecolor, orientation, format, bbox_inches, pad_inches, bbox_extra_artists, backend, **kwargs)\u001b[0m\n\u001b[0;32m   2336\u001b[0m     renderer \u001b[39m=\u001b[39m _get_renderer(\n\u001b[0;32m   2337\u001b[0m         \u001b[39mself\u001b[39m\u001b[39m.\u001b[39mfigure,\n\u001b[0;32m   2338\u001b[0m         functools\u001b[39m.\u001b[39mpartial(\n\u001b[0;32m   2339\u001b[0m             print_method, orientation\u001b[39m=\u001b[39morientation)\n\u001b[0;32m   2340\u001b[0m     )\n\u001b[0;32m   2341\u001b[0m     \u001b[39mwith\u001b[39;00m \u001b[39mgetattr\u001b[39m(renderer, \u001b[39m\"\u001b[39m\u001b[39m_draw_disabled\u001b[39m\u001b[39m\"\u001b[39m, nullcontext)():\n\u001b[1;32m-> 2342\u001b[0m         \u001b[39mself\u001b[39;49m\u001b[39m.\u001b[39;49mfigure\u001b[39m.\u001b[39;49mdraw(renderer)\n\u001b[0;32m   2344\u001b[0m \u001b[39mif\u001b[39;00m bbox_inches:\n\u001b[0;32m   2345\u001b[0m     \u001b[39mif\u001b[39;00m bbox_inches \u001b[39m==\u001b[39m \u001b[39m\"\u001b[39m\u001b[39mtight\u001b[39m\u001b[39m\"\u001b[39m:\n",
      "File \u001b[1;32mc:\\Users\\Dung03\\AppData\\Local\\Programs\\Python\\Python311\\Lib\\site-packages\\matplotlib\\artist.py:95\u001b[0m, in \u001b[0;36m_finalize_rasterization.<locals>.draw_wrapper\u001b[1;34m(artist, renderer, *args, **kwargs)\u001b[0m\n\u001b[0;32m     93\u001b[0m \u001b[39m@wraps\u001b[39m(draw)\n\u001b[0;32m     94\u001b[0m \u001b[39mdef\u001b[39;00m \u001b[39mdraw_wrapper\u001b[39m(artist, renderer, \u001b[39m*\u001b[39margs, \u001b[39m*\u001b[39m\u001b[39m*\u001b[39mkwargs):\n\u001b[1;32m---> 95\u001b[0m     result \u001b[39m=\u001b[39m draw(artist, renderer, \u001b[39m*\u001b[39;49margs, \u001b[39m*\u001b[39;49m\u001b[39m*\u001b[39;49mkwargs)\n\u001b[0;32m     96\u001b[0m     \u001b[39mif\u001b[39;00m renderer\u001b[39m.\u001b[39m_rasterizing:\n\u001b[0;32m     97\u001b[0m         renderer\u001b[39m.\u001b[39mstop_rasterizing()\n",
      "File \u001b[1;32mc:\\Users\\Dung03\\AppData\\Local\\Programs\\Python\\Python311\\Lib\\site-packages\\matplotlib\\artist.py:72\u001b[0m, in \u001b[0;36mallow_rasterization.<locals>.draw_wrapper\u001b[1;34m(artist, renderer)\u001b[0m\n\u001b[0;32m     69\u001b[0m     \u001b[39mif\u001b[39;00m artist\u001b[39m.\u001b[39mget_agg_filter() \u001b[39mis\u001b[39;00m \u001b[39mnot\u001b[39;00m \u001b[39mNone\u001b[39;00m:\n\u001b[0;32m     70\u001b[0m         renderer\u001b[39m.\u001b[39mstart_filter()\n\u001b[1;32m---> 72\u001b[0m     \u001b[39mreturn\u001b[39;00m draw(artist, renderer)\n\u001b[0;32m     73\u001b[0m \u001b[39mfinally\u001b[39;00m:\n\u001b[0;32m     74\u001b[0m     \u001b[39mif\u001b[39;00m artist\u001b[39m.\u001b[39mget_agg_filter() \u001b[39mis\u001b[39;00m \u001b[39mnot\u001b[39;00m \u001b[39mNone\u001b[39;00m:\n",
      "File \u001b[1;32mc:\\Users\\Dung03\\AppData\\Local\\Programs\\Python\\Python311\\Lib\\site-packages\\matplotlib\\figure.py:3140\u001b[0m, in \u001b[0;36mFigure.draw\u001b[1;34m(self, renderer)\u001b[0m\n\u001b[0;32m   3137\u001b[0m         \u001b[39m# ValueError can occur when resizing a window.\u001b[39;00m\n\u001b[0;32m   3139\u001b[0m \u001b[39mself\u001b[39m\u001b[39m.\u001b[39mpatch\u001b[39m.\u001b[39mdraw(renderer)\n\u001b[1;32m-> 3140\u001b[0m mimage\u001b[39m.\u001b[39;49m_draw_list_compositing_images(\n\u001b[0;32m   3141\u001b[0m     renderer, \u001b[39mself\u001b[39;49m, artists, \u001b[39mself\u001b[39;49m\u001b[39m.\u001b[39;49msuppressComposite)\n\u001b[0;32m   3143\u001b[0m \u001b[39mfor\u001b[39;00m sfig \u001b[39min\u001b[39;00m \u001b[39mself\u001b[39m\u001b[39m.\u001b[39msubfigs:\n\u001b[0;32m   3144\u001b[0m     sfig\u001b[39m.\u001b[39mdraw(renderer)\n",
      "File \u001b[1;32mc:\\Users\\Dung03\\AppData\\Local\\Programs\\Python\\Python311\\Lib\\site-packages\\matplotlib\\image.py:131\u001b[0m, in \u001b[0;36m_draw_list_compositing_images\u001b[1;34m(renderer, parent, artists, suppress_composite)\u001b[0m\n\u001b[0;32m    129\u001b[0m \u001b[39mif\u001b[39;00m not_composite \u001b[39mor\u001b[39;00m \u001b[39mnot\u001b[39;00m has_images:\n\u001b[0;32m    130\u001b[0m     \u001b[39mfor\u001b[39;00m a \u001b[39min\u001b[39;00m artists:\n\u001b[1;32m--> 131\u001b[0m         a\u001b[39m.\u001b[39;49mdraw(renderer)\n\u001b[0;32m    132\u001b[0m \u001b[39melse\u001b[39;00m:\n\u001b[0;32m    133\u001b[0m     \u001b[39m# Composite any adjacent images together\u001b[39;00m\n\u001b[0;32m    134\u001b[0m     image_group \u001b[39m=\u001b[39m []\n",
      "File \u001b[1;32mc:\\Users\\Dung03\\AppData\\Local\\Programs\\Python\\Python311\\Lib\\site-packages\\matplotlib\\artist.py:72\u001b[0m, in \u001b[0;36mallow_rasterization.<locals>.draw_wrapper\u001b[1;34m(artist, renderer)\u001b[0m\n\u001b[0;32m     69\u001b[0m     \u001b[39mif\u001b[39;00m artist\u001b[39m.\u001b[39mget_agg_filter() \u001b[39mis\u001b[39;00m \u001b[39mnot\u001b[39;00m \u001b[39mNone\u001b[39;00m:\n\u001b[0;32m     70\u001b[0m         renderer\u001b[39m.\u001b[39mstart_filter()\n\u001b[1;32m---> 72\u001b[0m     \u001b[39mreturn\u001b[39;00m draw(artist, renderer)\n\u001b[0;32m     73\u001b[0m \u001b[39mfinally\u001b[39;00m:\n\u001b[0;32m     74\u001b[0m     \u001b[39mif\u001b[39;00m artist\u001b[39m.\u001b[39mget_agg_filter() \u001b[39mis\u001b[39;00m \u001b[39mnot\u001b[39;00m \u001b[39mNone\u001b[39;00m:\n",
      "File \u001b[1;32mc:\\Users\\Dung03\\AppData\\Local\\Programs\\Python\\Python311\\Lib\\site-packages\\matplotlib\\axes\\_base.py:3064\u001b[0m, in \u001b[0;36m_AxesBase.draw\u001b[1;34m(self, renderer)\u001b[0m\n\u001b[0;32m   3061\u001b[0m \u001b[39mif\u001b[39;00m artists_rasterized:\n\u001b[0;32m   3062\u001b[0m     _draw_rasterized(\u001b[39mself\u001b[39m\u001b[39m.\u001b[39mfigure, artists_rasterized, renderer)\n\u001b[1;32m-> 3064\u001b[0m mimage\u001b[39m.\u001b[39;49m_draw_list_compositing_images(\n\u001b[0;32m   3065\u001b[0m     renderer, \u001b[39mself\u001b[39;49m, artists, \u001b[39mself\u001b[39;49m\u001b[39m.\u001b[39;49mfigure\u001b[39m.\u001b[39;49msuppressComposite)\n\u001b[0;32m   3067\u001b[0m renderer\u001b[39m.\u001b[39mclose_group(\u001b[39m'\u001b[39m\u001b[39maxes\u001b[39m\u001b[39m'\u001b[39m)\n\u001b[0;32m   3068\u001b[0m \u001b[39mself\u001b[39m\u001b[39m.\u001b[39mstale \u001b[39m=\u001b[39m \u001b[39mFalse\u001b[39;00m\n",
      "File \u001b[1;32mc:\\Users\\Dung03\\AppData\\Local\\Programs\\Python\\Python311\\Lib\\site-packages\\matplotlib\\image.py:131\u001b[0m, in \u001b[0;36m_draw_list_compositing_images\u001b[1;34m(renderer, parent, artists, suppress_composite)\u001b[0m\n\u001b[0;32m    129\u001b[0m \u001b[39mif\u001b[39;00m not_composite \u001b[39mor\u001b[39;00m \u001b[39mnot\u001b[39;00m has_images:\n\u001b[0;32m    130\u001b[0m     \u001b[39mfor\u001b[39;00m a \u001b[39min\u001b[39;00m artists:\n\u001b[1;32m--> 131\u001b[0m         a\u001b[39m.\u001b[39;49mdraw(renderer)\n\u001b[0;32m    132\u001b[0m \u001b[39melse\u001b[39;00m:\n\u001b[0;32m    133\u001b[0m     \u001b[39m# Composite any adjacent images together\u001b[39;00m\n\u001b[0;32m    134\u001b[0m     image_group \u001b[39m=\u001b[39m []\n",
      "File \u001b[1;32mc:\\Users\\Dung03\\AppData\\Local\\Programs\\Python\\Python311\\Lib\\site-packages\\matplotlib\\artist.py:72\u001b[0m, in \u001b[0;36mallow_rasterization.<locals>.draw_wrapper\u001b[1;34m(artist, renderer)\u001b[0m\n\u001b[0;32m     69\u001b[0m     \u001b[39mif\u001b[39;00m artist\u001b[39m.\u001b[39mget_agg_filter() \u001b[39mis\u001b[39;00m \u001b[39mnot\u001b[39;00m \u001b[39mNone\u001b[39;00m:\n\u001b[0;32m     70\u001b[0m         renderer\u001b[39m.\u001b[39mstart_filter()\n\u001b[1;32m---> 72\u001b[0m     \u001b[39mreturn\u001b[39;00m draw(artist, renderer)\n\u001b[0;32m     73\u001b[0m \u001b[39mfinally\u001b[39;00m:\n\u001b[0;32m     74\u001b[0m     \u001b[39mif\u001b[39;00m artist\u001b[39m.\u001b[39mget_agg_filter() \u001b[39mis\u001b[39;00m \u001b[39mnot\u001b[39;00m \u001b[39mNone\u001b[39;00m:\n",
      "File \u001b[1;32mc:\\Users\\Dung03\\AppData\\Local\\Programs\\Python\\Python311\\Lib\\site-packages\\matplotlib\\text.py:757\u001b[0m, in \u001b[0;36mText.draw\u001b[1;34m(self, renderer)\u001b[0m\n\u001b[0;32m    753\u001b[0m trans \u001b[39m=\u001b[39m \u001b[39mself\u001b[39m\u001b[39m.\u001b[39mget_transform()\n\u001b[0;32m    755\u001b[0m \u001b[39m# don't use self.get_position here, which refers to text\u001b[39;00m\n\u001b[0;32m    756\u001b[0m \u001b[39m# position in Text:\u001b[39;00m\n\u001b[1;32m--> 757\u001b[0m posx \u001b[39m=\u001b[39m \u001b[39mfloat\u001b[39m(\u001b[39mself\u001b[39m\u001b[39m.\u001b[39mconvert_xunits(\u001b[39mself\u001b[39m\u001b[39m.\u001b[39m_x))\n\u001b[0;32m    758\u001b[0m posy \u001b[39m=\u001b[39m \u001b[39mfloat\u001b[39m(\u001b[39mself\u001b[39m\u001b[39m.\u001b[39mconvert_yunits(\u001b[39mself\u001b[39m\u001b[39m.\u001b[39m_y))\n\u001b[0;32m    759\u001b[0m posx, posy \u001b[39m=\u001b[39m trans\u001b[39m.\u001b[39mtransform((posx, posy))\n",
      "\u001b[1;31mTypeError\u001b[0m: float() argument must be a string or a real number, not 'list'"
     ]
    },
    {
     "data": {
      "text/plain": [
       "<Figure size 800x800 with 1 Axes>"
      ]
     },
     "metadata": {},
     "output_type": "display_data"
    }
   ],
   "source": [
    "import matplotlib.pyplot as plt\n",
    "import matplotlib\n",
    "matplotlib.rcParams.update({'font.size': 22})\n",
    "\n",
    "data = cost(x[-1], y[-1])**2 - cost(x2[-1], y2[-1])**2\n",
    "plt.figure(figsize=(8, 8))\n",
    "plt.plot(data)\n",
    "plt.ylabel(\"f(x)\")\n",
    "plt.plot(x, y, marker=\"o\", markersize=15, color=\"red\")\n",
    "plt.text(x, y, \"(x, y)\")\n",
    "plt.plot(x2, y2, marker=\"o\", markersize=15, color=\"blue\")\n",
    "plt.text(x2, y2, \"(x2, y2)\")\n",
    "plt.text(x[-1], y[-1], \"(x*, y*)\")\n",
    "plt.plot(x_star, y_star, marker=\"o\", markersize=15, color=\"green\")\n",
    "plt.plot(x, y_grad, linestyle='-')\n",
    "plt.axhline(0)\n",
    "plt.axvline(x0, linestyle=\"--\")\n",
    "plt.axvline(x1, linestyle=\"--\")\n",
    "plt.text(x0, 2*x0-2, \"f'(x)\")\n",
    "plt.xlabel(\"x\")\n",
    "plt.title(\"f(x)\")\n",
    "plt.show()"
   ]
  },
  {
   "cell_type": "markdown",
   "metadata": {},
   "source": [
    "4. Hãy tìm learning rate trong thuật toán Gradient Descent của bài toán (1) theo phương pháp exact line search. Từ đó rút ra nhận xét cho các điểm cập nhật $x^{(k)}$."
   ]
  },
  {
   "cell_type": "markdown",
   "metadata": {},
   "source": [
    "## ------------------------------------------------ Hết -----------------------------------------------"
   ]
  },
  {
   "cell_type": "markdown",
   "metadata": {},
   "source": [
    "### Lưu ý: sinh viên không được sử dụng internet. Giám thị không giải thích gì thêm."
   ]
  }
 ],
 "metadata": {
  "colab": {
   "provenance": []
  },
  "kernelspec": {
   "display_name": "Python 3 (ipykernel)",
   "language": "python",
   "name": "python3"
  },
  "language_info": {
   "codemirror_mode": {
    "name": "ipython",
    "version": 3
   },
   "file_extension": ".py",
   "mimetype": "text/x-python",
   "name": "python",
   "nbconvert_exporter": "python",
   "pygments_lexer": "ipython3",
   "version": "3.11.2"
  }
 },
 "nbformat": 4,
 "nbformat_minor": 1
}
