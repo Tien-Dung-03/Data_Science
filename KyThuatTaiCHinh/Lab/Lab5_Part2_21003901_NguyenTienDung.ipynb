{
 "cells": [
  {
   "cell_type": "markdown",
   "id": "5fb52acb",
   "metadata": {},
   "source": [
    "# Financial Engineering - Lab 5 - Part 2"
   ]
  },
  {
   "cell_type": "code",
   "execution_count": 2,
   "id": "3ca195c1",
   "metadata": {},
   "outputs": [],
   "source": [
    "import numpy_financial as npf\n",
    "import numpy as np"
   ]
  },
  {
   "cell_type": "markdown",
   "id": "0ce60878",
   "metadata": {},
   "source": [
    "## What Is Net Present Value (NPV)?\n",
    "\n",
    "Net present value (NPV) is the difference between the present value of cash inflows and the present value of cash outflows over a period of time. NPV is used in capital budgeting and investment planning to analyze the profitability of a projected investment or project. NPV is the result of calculations used to find today’s value of a future stream of payments."
   ]
  },
  {
   "cell_type": "markdown",
   "id": "21858861",
   "metadata": {},
   "source": [
    "Net Present Value (NPV) Formula\n",
    "$$\n",
    "N P V=\\sum_{t=1}^{n} \\frac{R_{t}}{(1+i)^{t}}\n",
    "$$\n",
    "where:\n",
    "\n",
    "$R_{t}=$ Net cash inflow-outflows during a single period $t$ \\\n",
    "$i=$ Discount rate or return that could be earned in alternative investments \\\n",
    "$t=$ Number of timer periods"
   ]
  },
  {
   "cell_type": "code",
   "execution_count": 3,
   "id": "7ad12221",
   "metadata": {},
   "outputs": [
    {
     "data": {
      "text/plain": [
       "1196.175119077605"
      ]
     },
     "execution_count": 3,
     "metadata": {},
     "output_type": "execute_result"
    }
   ],
   "source": [
    "rate = 0.05\n",
    "cashflows = [-100000, 10000, 18000, 25000, 32000, 35000]\n",
    "npf.npv(rate, cashflows)"
   ]
  },
  {
   "cell_type": "markdown",
   "id": "4b3c2d5a",
   "metadata": {},
   "source": [
    "## What Is Internal Rate of Return (IRR)?\n",
    "\n",
    "The internal rate of return (IRR) is a metric used in financial analysis to estimate the profitability of potential investments. IRR is a discount rate that makes the net present value (NPV) of all cash flows equal to zero in a discounted cash flow analysis.\n",
    "\n",
    "IRR calculations rely on the same formula as NPV does. Keep in mind that IRR is not the actual dollar value of the project. It is the annual return that makes the NPV equal to zero.\n",
    "\n",
    "Generally speaking, the higher an internal rate of return, the more desirable an investment is to undertake. IRR is uniform for investments of varying types and, as such, can be used to rank multiple prospective investments or projects on a relatively even basis. In general, when comparing investment options with other similar characteristics, the investment with the highest IRR probably would be considered the best."
   ]
  },
  {
   "cell_type": "markdown",
   "id": "f6cd99ca",
   "metadata": {},
   "source": [
    "## Formula and Calculation for IRR\n",
    "The formula and calculation used to determine this figure are as follows:\n",
    "$$\n",
    "0=\\mathrm{NPV}=\\sum_{t=1}^{T} \\frac{C_{t}}{(1+I R R)^{t}}-C_{0}\n",
    "$$\n",
    "where: \n",
    "\n",
    "$C_{t}:$ Net cash inflow during the period t \\\n",
    "$C_{0}:$ Total initial investment costs \\\n",
    "$IRR:$ The internal rate of return \\\n",
    "$t:$ The number of time periods "
   ]
  },
  {
   "cell_type": "code",
   "execution_count": 4,
   "id": "59aa368b",
   "metadata": {},
   "outputs": [
    {
     "data": {
      "text/plain": [
       "0.053625505794066664"
      ]
     },
     "execution_count": 4,
     "metadata": {},
     "output_type": "execute_result"
    }
   ],
   "source": [
    "cashflows = [-100000, 10000, 18000, 25000, 32000, 35000]\n",
    "npf.irr(cashflows)"
   ]
  },
  {
   "cell_type": "code",
   "execution_count": 5,
   "id": "9e39d01c",
   "metadata": {},
   "outputs": [
    {
     "name": "stdout",
     "output_type": "stream",
     "text": [
      "47311.317717167105\n",
      "0.17718948308565352\n"
     ]
    }
   ],
   "source": [
    "rate = 0.05\n",
    "cashflows = [-100000, 15000, 25000, 35000,45000, 55000]\n",
    "print(npf.npv(rate, cashflows))\n",
    "print(npf.irr(cashflows))"
   ]
  },
  {
   "cell_type": "markdown",
   "id": "052e129e",
   "metadata": {},
   "source": [
    "## Bond valuation"
   ]
  },
  {
   "cell_type": "markdown",
   "id": "8c06352d",
   "metadata": {},
   "source": [
    "Một trái phiếu có face value là \\$ 2000, coupon rate là 8\\% trả hàng năm (vào cuối năm), thời hạn là 5 năm. Sử dụng interest rate 6\\%, tính giá hiện tại của trái phiếu."
   ]
  },
  {
   "cell_type": "code",
   "execution_count": 6,
   "id": "11137e98",
   "metadata": {},
   "outputs": [
    {
     "name": "stdout",
     "output_type": "stream",
     "text": [
      "The price of bond is : $2168.494551422629\n"
     ]
    }
   ],
   "source": [
    "import numpy_financial as npf\n",
    "import numpy as np\n",
    "\n",
    "principal = 2000\n",
    "annual_interest = 0.06\n",
    "period = 5\n",
    "coupon_payment = 0.08 * principal\n",
    "\n",
    "bond_price = (npf.pv(annual_interest, period, coupon_payment, principal)) * -1\n",
    "print(\"The price of bond is : $\" + str(bond_price))"
   ]
  },
  {
   "cell_type": "markdown",
   "id": "d2b7a6ec",
   "metadata": {},
   "source": [
    "## Yield to Maturity"
   ]
  },
  {
   "cell_type": "markdown",
   "id": "da20587a",
   "metadata": {},
   "source": [
    "Một bond có mệnh giá là \\$ 10,000, trả coupon 5\\% / năm. Thời hạn của trái phiếu là 4 năm. Giá thị trường của trái phiếu là \\& 9,000. Tính YTM (Yield to Maturity) của trái phiếu và so sánh với kết quả theo phương pháp dưới đây"
   ]
  },
  {
   "cell_type": "code",
   "execution_count": 7,
   "id": "572ea76c",
   "metadata": {},
   "outputs": [
    {
     "name": "stdout",
     "output_type": "stream",
     "text": [
      "The YTM for this bond is: 7.894736842105263%\n"
     ]
    }
   ],
   "source": [
    "face_value = 10000\n",
    "market_price = 9000\n",
    "n = 4\n",
    "coupon_payment = 0.05 * 10000\n",
    "\n",
    "ytm = ((coupon_payment + (face_value-market_price)/ n)) / ((face_value + market_price)/2)\n",
    "print(\"The YTM for this bond is: \" + str(ytm*100) + \"%\")"
   ]
  },
  {
   "cell_type": "markdown",
   "id": "515daf50",
   "metadata": {},
   "source": [
    "# Exercises"
   ]
  },
  {
   "cell_type": "markdown",
   "id": "a5c33e94",
   "metadata": {},
   "source": [
    "## Problem 1\n",
    "Consider a 30 -year fixed mortgage where you will borrow $\\$ 238,000$ at rate $5.25 \\%$. Compute the monthly payment, the balance (the amount of principal you owe) after 12 payments, and the amount of interest payment for the $12^{\\text {th }}$ payment."
   ]
  },
  {
   "cell_type": "code",
   "execution_count": 8,
   "id": "0dcda0e9",
   "metadata": {},
   "outputs": [
    {
     "name": "stdout",
     "output_type": "stream",
     "text": [
      "Monthly Payment: 1314.2448110977157\n"
     ]
    }
   ],
   "source": [
    "principal = 238000\n",
    "annual_interest_rate = 0.0525\n",
    "monthly_interest_rate = annual_interest_rate / 12\n",
    "total_number_of_payments = 30 * 12\n",
    "\n",
    "monthly_payment = principal * (monthly_interest_rate / (1 - (1 + monthly_interest_rate) ** -total_number_of_payments))\n",
    "print(\"Monthly Payment:\", monthly_payment)"
   ]
  },
  {
   "cell_type": "code",
   "execution_count": 9,
   "id": "180d0e87",
   "metadata": {},
   "outputs": [
    {
     "name": "stdout",
     "output_type": "stream",
     "text": [
      "Balance after 12 payments: 234644.0740553961\n"
     ]
    }
   ],
   "source": [
    "number_of_payments = 12\n",
    "\n",
    "balance = principal * (1 + monthly_interest_rate) ** number_of_payments - ((1 + monthly_interest_rate) ** number_of_payments - 1) / monthly_interest_rate * monthly_payment\n",
    "print(\"Balance after 12 payments:\", balance)"
   ]
  },
  {
   "cell_type": "code",
   "execution_count": 10,
   "id": "3ea22872",
   "metadata": {},
   "outputs": [
    {
     "name": "stdout",
     "output_type": "stream",
     "text": [
      "Interest Payment for the 12th payment: 1026.567823992358\n"
     ]
    }
   ],
   "source": [
    "interest_payment = balance * monthly_interest_rate\n",
    "print(\"Interest Payment for the 12th payment:\", interest_payment)"
   ]
  },
  {
   "attachments": {
    "image.png": {
     "image/png": "[encoded data removed]"
    }
   },
   "cell_type": "markdown",
   "id": "605a5f67",
   "metadata": {},
   "source": [
    "## Problem 2\n",
    "Calculate 6-, 12-, 18- and 24-month zero rates using the following bonds. Compute the yields of the bonds. \n",
    "![image.png](attachment:image.png)"
   ]
  },
  {
   "cell_type": "code",
   "execution_count": null,
   "id": "28de8897",
   "metadata": {},
   "outputs": [],
   "source": [
    "face_value = [100, 100, 100, 100]\n",
    "time_to_maturity = [0.5, 1.0, 1.5, 2.0]\n",
    "coupon_rate = [0.0, 0.0, 6.2, 8.0]\n",
    "bond_price = [98, 95, 101, 104]"
   ]
  },
  {
   "cell_type": "code",
   "execution_count": 12,
   "id": "46331df8",
   "metadata": {},
   "outputs": [
    {
     "name": "stdout",
     "output_type": "stream",
     "text": [
      "Zero Rates: [-0.020000000000000018, -0.025320565519103666, -0.4804073977716943, -0.41696086388689224]\n",
      "Yields: [0.020408163265306145, 0.025978352085153977, 0.9245847529611408, 0.7151507301321247]\n"
     ]
    }
   ],
   "source": [
    "\n",
    "import math\n",
    "\n",
    "face_value = [100, 100, 100, 100]\n",
    "time_to_maturity = [0.5, 1.0, 1.5, 2.0]\n",
    "coupon_rate = [0.0, 0.0, 6.2, 8.0]\n",
    "bond_price = [98, 95, 101, 104]\n",
    "\n",
    "zero_rates = []\n",
    "for i in range(len(face_value)):\n",
    "    bond_price_i = bond_price[i]\n",
    "    cash_flows = [coupon_rate[i] / 2 * face_value[i]]\n",
    "    for j in range(1, int(2 * time_to_maturity[i])):\n",
    "        if j % 2 == 0:\n",
    "            cash_flows.append(coupon_rate[i] / 2 * face_value[i])\n",
    "        else:\n",
    "            cash_flows.append(0)\n",
    "    cash_flows[-1] += face_value[i]\n",
    "    zero_rate = math.pow(bond_price_i / sum(cash_flows), 1 / (2 * time_to_maturity[i])) - 1\n",
    "    zero_rates.append(zero_rate)\n",
    "print(\"Zero Rates:\", zero_rates)\n",
    "\n",
    "yields = []\n",
    "for i in range(len(face_value)):\n",
    "    bond_price_i = bond_price[i]\n",
    "    cash_flows = [coupon_rate[i] / 2 * face_value[i]]\n",
    "    for j in range(1, int(2 * time_to_maturity[i])):\n",
    "        if j % 2 == 0:\n",
    "            cash_flows.append(coupon_rate[i] / 2 * face_value[i])\n",
    "        else:\n",
    "            cash_flows.append(0)\n",
    "    cash_flows[-1] += face_value[i]\n",
    "    yield_i = math.pow(sum(cash_flows) / bond_price_i, 1 / (2 * time_to_maturity[i])) - 1\n",
    "    yields.append(yield_i)\n",
    "print(\"Yields:\", yields)\n",
    "\n"
   ]
  },
  {
   "cell_type": "markdown",
   "id": "0c82663c",
   "metadata": {},
   "source": [
    "## Problem 3\n",
    "The 6-month zero rate is $5.0 \\%$, and the 12 -month zero rates is $5.1 \\%$. An 18 -month bond with coupon rate $4.5 \\%$ has a yield of $5.2 \\%$. What is the 18 -month zero rate?"
   ]
  },
  {
   "cell_type": "code",
   "execution_count": 13,
   "id": "f1657f70",
   "metadata": {},
   "outputs": [
    {
     "name": "stdout",
     "output_type": "stream",
     "text": [
      "the 18-month zero rate is: 646.92%\n"
     ]
    }
   ],
   "source": [
    "from math import exp\n",
    "\n",
    "coupon_rate = 0.045\n",
    "yield_rate = 0.052 \n",
    "bond_price = 0\n",
    "time = 0.5\n",
    "maturity = 19\n",
    "for i in range(1, maturity + 1):\n",
    "    bond_price += (coupon_rate + 1) * exp(-yield_rate * time)\n",
    "    time += 0.5\n",
    "zero_rate_18_months = (100 + coupon_rate) / bond_price\n",
    "print(\"the 18-month zero rate is: {:.2%}\".format(zero_rate_18_months))\n"
   ]
  }
 ],
 "metadata": {
  "kernelspec": {
   "display_name": "Python 3 (ipykernel)",
   "language": "python",
   "name": "python3"
  },
  "language_info": {
   "codemirror_mode": {
    "name": "ipython",
    "version": 3
   },
   "file_extension": ".py",
   "mimetype": "text/x-python",
   "name": "python",
   "nbconvert_exporter": "python",
   "pygments_lexer": "ipython3",
   "version": "3.11.2"
  }
 },
 "nbformat": 4,
 "nbformat_minor": 5
}
