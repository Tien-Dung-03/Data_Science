{
  "cells": [
    {
      "cell_type": "markdown",
      "id": "d6e9fe66",
      "metadata": {
        "id": "d6e9fe66"
      },
      "source": [
        "# Financial Engineering - Lab 5 - Part 1"
      ]
    },
    {
      "cell_type": "markdown",
      "id": "5b3e112e",
      "metadata": {
        "id": "5b3e112e"
      },
      "source": [
        "## Trong bài lab này, chúng ta sẽ dùng monthly compounding (tính lãi hàng tháng). Sau khi làm xong, các bạn có thể viết lại code sử dụng continuous compounding khi thấy phù hợp"
      ]
    },
    {
      "cell_type": "code",
      "execution_count": 29,
      "id": "820ea9df",
      "metadata": {
        "id": "820ea9df"
      },
      "outputs": [],
      "source": [
        "import numpy_financial as npf\n",
        "import numpy as np"
      ]
    },
    {
      "cell_type": "markdown",
      "id": "b8520dec",
      "metadata": {
        "id": "b8520dec"
      },
      "source": [
        "* https://numpy.org/numpy-financial/latest/fv.html#numpy_financial.fv"
      ]
    },
    {
      "cell_type": "markdown",
      "id": "ed36cd88",
      "metadata": {
        "id": "ed36cd88"
      },
      "source": [
        "* Bạn cần vay \\$ 1000\n",
        "* Lãi suất: 3 \\% / năm\n",
        "* Thời hạn: 10 năm\n",
        "* Tiền trả góp hàng năm là 0\n",
        "* Bạn phải trả bao nhiêu tiền sau 10 năm"
      ]
    },
    {
      "cell_type": "code",
      "execution_count": 30,
      "id": "1399af27",
      "metadata": {
        "colab": {
          "base_uri": "https://localhost:8080/"
        },
        "id": "1399af27",
        "outputId": "1542d107-47d9-4b0d-c02d-ee44b9e282ca"
      },
      "outputs": [
        {
          "output_type": "execute_result",
          "data": {
            "text/plain": [
              "-1343.9163793441223"
            ]
          },
          "metadata": {},
          "execution_count": 30
        }
      ],
      "source": [
        "npf.fv(0.03, 10, 0, 1000)"
      ]
    },
    {
      "cell_type": "code",
      "execution_count": 31,
      "id": "b282cc21",
      "metadata": {
        "colab": {
          "base_uri": "https://localhost:8080/"
        },
        "id": "b282cc21",
        "outputId": "18c44065-5fb0-42e6-d7ac-6360f902bba4"
      },
      "outputs": [
        {
          "output_type": "execute_result",
          "data": {
            "text/plain": [
              "-197.5284481970482"
            ]
          },
          "metadata": {},
          "execution_count": 31
        }
      ],
      "source": [
        "npf.fv(0.03, 10, -100, 1000)"
      ]
    },
    {
      "cell_type": "code",
      "execution_count": 32,
      "id": "71da2c90",
      "metadata": {
        "colab": {
          "base_uri": "https://localhost:8080/"
        },
        "id": "71da2c90",
        "outputId": "5bcaaebe-d0ea-4dd3-f47e-c7528ebfd46d"
      },
      "outputs": [
        {
          "output_type": "execute_result",
          "data": {
            "text/plain": [
              "1343.9163793441223"
            ]
          },
          "metadata": {},
          "execution_count": 32
        }
      ],
      "source": [
        "1000*(1+0.03)**10"
      ]
    },
    {
      "cell_type": "markdown",
      "id": "1b99a897",
      "metadata": {
        "id": "1b99a897"
      },
      "source": [
        "* Future value \\$ 1500\n",
        "* Lãi suất: 3 \\% / năm\n",
        "* Thời hạn: 10 năm\n",
        "* Tiền trả góp hàng năm là 0\n",
        "* Present value là bao nhiêu"
      ]
    },
    {
      "cell_type": "code",
      "execution_count": 33,
      "id": "1582ebf0",
      "metadata": {
        "colab": {
          "base_uri": "https://localhost:8080/"
        },
        "id": "1582ebf0",
        "outputId": "07268efd-db89-48c1-cf5f-f6ef50419a08"
      },
      "outputs": [
        {
          "output_type": "execute_result",
          "data": {
            "text/plain": [
              "-1116.1408723450875"
            ]
          },
          "metadata": {},
          "execution_count": 33
        }
      ],
      "source": [
        "npf.pv(0.03, 10, 0, 1500)"
      ]
    },
    {
      "cell_type": "code",
      "execution_count": 34,
      "id": "ac16d9af",
      "metadata": {
        "colab": {
          "base_uri": "https://localhost:8080/"
        },
        "id": "ac16d9af",
        "outputId": "04e27b4b-3741-49f9-925a-284ed311512c"
      },
      "outputs": [
        {
          "output_type": "execute_result",
          "data": {
            "text/plain": [
              "1116.1408723450875"
            ]
          },
          "metadata": {},
          "execution_count": 34
        }
      ],
      "source": [
        "1500/(1+0.03)**10"
      ]
    },
    {
      "cell_type": "code",
      "execution_count": 35,
      "id": "f81af056",
      "metadata": {
        "colab": {
          "base_uri": "https://localhost:8080/"
        },
        "id": "f81af056",
        "outputId": "b331dc04-d245-4ffe-9668-e0e7bf469a57"
      },
      "outputs": [
        {
          "output_type": "execute_result",
          "data": {
            "text/plain": [
              "-37688.94828730004"
            ]
          },
          "metadata": {},
          "execution_count": 35
        }
      ],
      "source": [
        "npf.pv(0.05, 20, 0, 100000)"
      ]
    },
    {
      "cell_type": "code",
      "execution_count": 36,
      "id": "5e880c0b",
      "metadata": {
        "colab": {
          "base_uri": "https://localhost:8080/"
        },
        "id": "5e880c0b",
        "outputId": "d4866a73-044a-4209-9dbf-6887facfc1f9"
      },
      "outputs": [
        {
          "output_type": "execute_result",
          "data": {
            "text/plain": [
              "-23137.744865585784"
            ]
          },
          "metadata": {},
          "execution_count": 36
        }
      ],
      "source": [
        "npf.pv(0.05, 30, 0, 100000)"
      ]
    },
    {
      "cell_type": "code",
      "execution_count": 37,
      "id": "9ec9f75b",
      "metadata": {
        "colab": {
          "base_uri": "https://localhost:8080/"
        },
        "id": "9ec9f75b",
        "outputId": "cf0fb22e-9b7c-452c-e879-313f89758709"
      },
      "outputs": [
        {
          "output_type": "execute_result",
          "data": {
            "text/plain": [
              "-14864.362802414345"
            ]
          },
          "metadata": {},
          "execution_count": 37
        }
      ],
      "source": [
        "npf.pv(0.10, 20, 0, 100000)"
      ]
    },
    {
      "cell_type": "markdown",
      "id": "f2d8225d",
      "metadata": {
        "id": "f2d8225d"
      },
      "source": [
        "* Nếu tính lãi hàng tháng thì, monthly_rate là bao nhiêu để có effective rate 2.5 \\%\n",
        "* $$(1+r_m)^{12} = 1 + 0.025 $$\n",
        "* Mỗi tháng tiết kiệm được \\$ 2000\n",
        "* Sau 25 năm, số tiền tiết kiệm được (tính ở thời điểm hiện tại) là bao nhiêu"
      ]
    },
    {
      "cell_type": "code",
      "execution_count": 38,
      "id": "acf03b5c",
      "metadata": {
        "colab": {
          "base_uri": "https://localhost:8080/"
        },
        "id": "acf03b5c",
        "outputId": "bd8fb574-a63f-422a-e73e-cbec719515ed"
      },
      "outputs": [
        {
          "output_type": "execute_result",
          "data": {
            "text/plain": [
              "447229.1485437993"
            ]
          },
          "metadata": {},
          "execution_count": 38
        }
      ],
      "source": [
        "annual_effective_rate = 0.025\n",
        "monthly_rate = (1+annual_effective_rate)**(1/12) -1\n",
        "nums_of_months = 25 * 12\n",
        "\n",
        "pv_list = []\n",
        "\n",
        "for i in range(1, nums_of_months+1):\n",
        "    pv = (npf.pv(monthly_rate, i, 0, 2000 )) * -1\n",
        "    pv_list.append(pv)\n",
        "\n",
        "pv_list_np = np.array(pv_list)\n",
        "pv_list_np.sum()"
      ]
    },
    {
      "cell_type": "code",
      "execution_count": 39,
      "id": "cf141e9b",
      "metadata": {
        "colab": {
          "base_uri": "https://localhost:8080/"
        },
        "id": "cf141e9b",
        "outputId": "d7fe74f7-f557-4e35-e4a8-61f09a17cdd6"
      },
      "outputs": [
        {
          "output_type": "execute_result",
          "data": {
            "text/plain": [
              "829137.8405403909"
            ]
          },
          "metadata": {},
          "execution_count": 39
        }
      ],
      "source": [
        "pv_list_np.sum() * (1+monthly_rate)**(25*12)"
      ]
    },
    {
      "cell_type": "code",
      "execution_count": 40,
      "id": "e2c34a5b",
      "metadata": {
        "colab": {
          "base_uri": "https://localhost:8080/"
        },
        "id": "e2c34a5b",
        "outputId": "bb42b87a-530c-42f7-ab42-724ddbb875ec"
      },
      "outputs": [
        {
          "output_type": "execute_result",
          "data": {
            "text/plain": [
              "600000"
            ]
          },
          "metadata": {},
          "execution_count": 40
        }
      ],
      "source": [
        "25*12*2000"
      ]
    },
    {
      "cell_type": "markdown",
      "id": "3735f53e",
      "metadata": {
        "id": "3735f53e"
      },
      "source": [
        "# 1. Simple Interest Rate\n",
        "\n",
        "Trong phần này chúng ta sẽ tính simple interest, tức là lãi sẽ không được tái đầu tư"
      ]
    },
    {
      "cell_type": "markdown",
      "id": "9e3ebcae",
      "metadata": {
        "id": "9e3ebcae"
      },
      "source": [
        "* Tiền đầu tư ban đầu: \\$15,000\n",
        "* Lãi suất 4\\% / năm\n",
        "* Dùng lãi suất đơn, tính tổng tiền đầu tư và lãi sau 5 năm"
      ]
    },
    {
      "cell_type": "code",
      "execution_count": 41,
      "id": "e1ff55bc",
      "metadata": {
        "colab": {
          "base_uri": "https://localhost:8080/"
        },
        "id": "e1ff55bc",
        "outputId": "583ef703-1dd5-4d06-dfe9-b73c2f19b33a"
      },
      "outputs": [
        {
          "output_type": "stream",
          "name": "stdout",
          "text": [
            "Total payment amount (Principal + Interest): $18000.0\n"
          ]
        }
      ],
      "source": [
        "# Simple interest\n",
        "principal = 15000\n",
        "annual_rate = 0.04\n",
        "t = 5\n",
        "amount = principal * (1 + annual_rate* t)\n",
        "print(\"Total payment amount (Principal + Interest): $\" + str(amount))"
      ]
    },
    {
      "cell_type": "markdown",
      "id": "a7e1cf0f",
      "metadata": {
        "id": "a7e1cf0f"
      },
      "source": [
        "# 2. Installment"
      ]
    },
    {
      "cell_type": "markdown",
      "id": "17b57edc",
      "metadata": {
        "id": "17b57edc"
      },
      "source": [
        "* Hàm pmt của numpy_financial\n",
        "* https://numpy.org/numpy-financial/latest/pmt.html\n",
        "\n",
        "Một người vay \\$15,000 với lãi suất 4 \\% / năm để mua xe hơi, trả góp trong vòng 5 năm. Hỏi mỗi tháng người đó phải trả góp bao nhiêu tiền (giả sử khoản trả góp hàng tháng không thay đổi trong suốt quá trình trả nợ)."
      ]
    },
    {
      "cell_type": "code",
      "execution_count": 42,
      "id": "41e1716b",
      "metadata": {
        "colab": {
          "base_uri": "https://localhost:8080/"
        },
        "id": "41e1716b",
        "outputId": "8236d57c-89c5-487e-b625-9f1f25fc419a"
      },
      "outputs": [
        {
          "output_type": "stream",
          "name": "stdout",
          "text": [
            "Monthly Installment Amount (Principal + Interest): $276.2478308289896\n"
          ]
        }
      ],
      "source": [
        "monthly_rate = annual_rate/12\n",
        "t = 12 * 5\n",
        "loan_amount = 15000\n",
        "monthly_payment = (npf.pmt(monthly_rate, t, loan_amount)) * -1\n",
        "print(\"Monthly Installment Amount (Principal + Interest): $\" + str(monthly_payment ))"
      ]
    },
    {
      "cell_type": "code",
      "execution_count": 43,
      "id": "8c052c5a",
      "metadata": {
        "colab": {
          "base_uri": "https://localhost:8080/"
        },
        "id": "8c052c5a",
        "outputId": "80a5bd76-ef9e-47d7-edfb-82a318c08a08"
      },
      "outputs": [
        {
          "output_type": "execute_result",
          "data": {
            "text/plain": [
              "276.2478308289895"
            ]
          },
          "metadata": {},
          "execution_count": 43
        }
      ],
      "source": [
        "(monthly_rate * 15000)/ (1-(1 + (monthly_rate))**(-t))"
      ]
    },
    {
      "cell_type": "markdown",
      "id": "e70edc85",
      "metadata": {
        "id": "e70edc85"
      },
      "source": [
        "### Tính số tiền trả lãi và số trả cho tiền gốc hàng tháng"
      ]
    },
    {
      "cell_type": "code",
      "execution_count": 44,
      "id": "95856a3c",
      "metadata": {
        "colab": {
          "base_uri": "https://localhost:8080/"
        },
        "id": "95856a3c",
        "outputId": "f02a8020-76ed-4376-f165-f28ff2656b4a"
      },
      "outputs": [
        {
          "output_type": "stream",
          "name": "stdout",
          "text": [
            "Term Principal Paid Interest Paid Remaining Principal\n",
            " 0         0.00            0.00        15000.00\n",
            " 1      -226.25          -50.00        14773.75\n",
            " 2      -227.00          -49.25        14546.75\n",
            " 3      -227.76          -48.49        14318.99\n",
            " 4      -228.52          -47.73        14090.47\n",
            " 5      -229.28          -46.97        13861.19\n",
            " 6      -230.04          -46.20        13631.15\n",
            " 7      -230.81          -45.44        13400.34\n",
            " 8      -231.58          -44.67        13168.76\n",
            " 9      -232.35          -43.90        12936.41\n",
            "10      -233.13          -43.12        12703.28\n",
            "11      -233.90          -42.34        12469.38\n",
            "12      -234.68          -41.56        12234.69\n",
            "13      -235.47          -40.78        11999.23\n",
            "14      -236.25          -40.00        11762.98\n",
            "15      -237.04          -39.21        11525.94\n",
            "16      -237.83          -38.42        11288.11\n",
            "17      -238.62          -37.63        11049.49\n",
            "18      -239.42          -36.83        10810.08\n",
            "19      -240.21          -36.03        10569.86\n",
            "20      -241.01          -35.23        10328.85\n",
            "21      -241.82          -34.43        10087.03\n",
            "22      -242.62          -33.62         9844.40\n",
            "23      -243.43          -32.81         9600.97\n",
            "24      -244.24          -32.00         9356.73\n",
            "25      -245.06          -31.19         9111.67\n",
            "26      -245.88          -30.37         8865.79\n",
            "27      -246.70          -29.55         8619.10\n",
            "28      -247.52          -28.73         8371.58\n",
            "29      -248.34          -27.91         8123.24\n",
            "30      -249.17          -27.08         7874.07\n",
            "31      -250.00          -26.25         7624.06\n",
            "32      -250.83          -25.41         7373.23\n",
            "33      -251.67          -24.58         7121.56\n",
            "34      -252.51          -23.74         6869.05\n",
            "35      -253.35          -22.90         6615.70\n",
            "36      -254.20          -22.05         6361.50\n",
            "37      -255.04          -21.21         6106.46\n",
            "38      -255.89          -20.35         5850.57\n",
            "39      -256.75          -19.50         5593.82\n",
            "40      -257.60          -18.65         5336.22\n",
            "41      -258.46          -17.79         5077.76\n",
            "42      -259.32          -16.93         4818.44\n",
            "43      -260.19          -16.06         4558.25\n",
            "44      -261.05          -15.19         4297.20\n",
            "45      -261.92          -14.32         4035.27\n",
            "46      -262.80          -13.45         3772.48\n",
            "47      -263.67          -12.57         3508.80\n",
            "48      -264.55          -11.70         3244.25\n",
            "49      -265.43          -10.81         2978.82\n",
            "50      -266.32           -9.93         2712.50\n",
            "51      -267.21           -9.04         2445.29\n",
            "52      -268.10           -8.15         2177.20\n",
            "53      -268.99           -7.26         1908.21\n",
            "54      -269.89           -6.36         1638.32\n",
            "55      -270.79           -5.46         1367.53\n",
            "56      -271.69           -4.56         1095.84\n",
            "57      -272.60           -3.65          823.25\n",
            "58      -273.50           -2.74          549.75\n",
            "59      -274.42           -1.83          275.33\n",
            "60      -275.33           -0.92            0.00\n"
          ]
        }
      ],
      "source": [
        "principal = 15000\n",
        "per = np.arange(t) + 1\n",
        "interest_paids = npf.ipmt(monthly_rate, per, t, principal)\n",
        "principal_paids = npf.ppmt(monthly_rate, per, t, principal)\n",
        "\n",
        "fmt1 = '{0:s} {1:s} {2:s} {3:s}'\n",
        "fmt2 = '{0:2d} {1:12.2f} {2:15.2f} {3:15.2f}'\n",
        "fmt3 = '{0:2d} {1:12.2f} {2:15.2f} {3:15.2f}'\n",
        "\n",
        "print(fmt1.format('Term', 'Principal Paid', 'Interest Paid', 'Remaining Principal'))\n",
        "print(fmt2.format(0, 0, 0, principal))\n",
        "\n",
        "for n in per:\n",
        "    i = n - 1\n",
        "    principal = principal + principal_paids[i]\n",
        "    print(fmt3.format(n, principal_paids[i], interest_paids[i], principal))"
      ]
    },
    {
      "cell_type": "markdown",
      "id": "7f03b33d",
      "metadata": {
        "id": "7f03b33d"
      },
      "source": [
        "### Giả sử số tiền vay vẫn là $15,000 và lãi suất vẫn là 4\\% / năm, nhưng thời hạn trả góp bây giờ là 7 năm. Hỏi mỗi tháng người này phải trả góp bao nhiêu tiền"
      ]
    },
    {
      "cell_type": "code",
      "execution_count": 45,
      "id": "7624a4c1",
      "metadata": {
        "colab": {
          "base_uri": "https://localhost:8080/"
        },
        "id": "7624a4c1",
        "outputId": "bc7df186-5c2a-43eb-884a-eb42152d4097"
      },
      "outputs": [
        {
          "output_type": "stream",
          "name": "stdout",
          "text": [
            "Monthly Installment Amount (Principal + Interest): $205.03209504734366\n"
          ]
        }
      ],
      "source": [
        "monthly_rate = annual_rate/12\n",
        "t = 12 * 7\n",
        "loan_amount = 15000\n",
        "monthly_payment = (npf.pmt(monthly_rate, t, loan_amount)) * -1\n",
        "print(\"Monthly Installment Amount (Principal + Interest): $\" + str(monthly_payment ))"
      ]
    },
    {
      "cell_type": "markdown",
      "id": "c8abd0f5",
      "metadata": {
        "id": "c8abd0f5"
      },
      "source": [
        "### Tính tổng tiền lãi phải trả trong 2 trường hợp, thời hạn 5 năm và thời hạn 7 năm"
      ]
    },
    {
      "cell_type": "code",
      "execution_count": 46,
      "id": "d80e27a9",
      "metadata": {
        "colab": {
          "base_uri": "https://localhost:8080/"
        },
        "id": "d80e27a9",
        "outputId": "75c9adbb-16ee-4a62-81f6-08ffb8c1e6f6"
      },
      "outputs": [
        {
          "output_type": "stream",
          "name": "stdout",
          "text": [
            "The cumulative interest payment (5 years): $1574.8698497397165\n",
            "The cumulative interest payment (7 years): $2222.6959839772107\n"
          ]
        }
      ],
      "source": [
        "#Cumulative interest payment for 5 years\n",
        "t = 12 * 5\n",
        "principal = 15000\n",
        "per = np.arange(t) + 1\n",
        "interest_paids = npf.ipmt(monthly_rate, per, t, principal)\n",
        "cumulative_ipmt = interest_paids.sum() * -1\n",
        "print(\"The cumulative interest payment (5 years): $\" + str(cumulative_ipmt))\n",
        "\n",
        "#Cumulative interest payment for 7 years\n",
        "t = 12 * 7\n",
        "principal = 15000\n",
        "per = np.arange(t) + 1\n",
        "interest_paids = npf.ipmt(monthly_rate, per, t, principal)\n",
        "cumulative_ipmt = interest_paids.sum() * -1\n",
        "print(\"The cumulative interest payment (7 years): $\" + str(cumulative_ipmt))"
      ]
    }
  ],
  "metadata": {
    "kernelspec": {
      "display_name": "Python 3 (ipykernel)",
      "language": "python",
      "name": "python3"
    },
    "language_info": {
      "codemirror_mode": {
        "name": "ipython",
        "version": 3
      },
      "file_extension": ".py",
      "mimetype": "text/x-python",
      "name": "python",
      "nbconvert_exporter": "python",
      "pygments_lexer": "ipython3",
      "version": "3.10.9"
    },
    "colab": {
      "provenance": []
    }
  },
  "nbformat": 4,
  "nbformat_minor": 5
}