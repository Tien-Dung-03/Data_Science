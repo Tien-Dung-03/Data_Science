{
 "cells": [
  {
   "cell_type": "markdown",
   "id": "a632079c",
   "metadata": {},
   "source": [
    "## Lab 7 - Forwards and Futures - Part 2"
   ]
  },
  {
   "cell_type": "code",
   "execution_count": 2,
   "id": "de89a8b4",
   "metadata": {},
   "outputs": [],
   "source": [
    "import numpy as np\n",
    "import matplotlib.pyplot as plt\n",
    "%matplotlib inline"
   ]
  },
  {
   "cell_type": "code",
   "execution_count": 3,
   "id": "a3b46773",
   "metadata": {},
   "outputs": [
    {
     "name": "stdout",
     "output_type": "stream",
     "text": [
      "Season.SPRING\n",
      "SPRING\n",
      "1\n",
      "<enum 'Season'>\n",
      "<Season.SPRING: 1>\n",
      "[<Season.SPRING: 1>, <Season.SUMMER: 2>, <Season.AUTUMN: 3>, <Season.WINTER: 4>]\n"
     ]
    }
   ],
   "source": [
    "# This is an example of how to use Enum type in Python\n",
    "\n",
    "from enum import Enum\n",
    " \n",
    "class Season(Enum):\n",
    "    SPRING = 1\n",
    "    SUMMER = 2\n",
    "    AUTUMN = 3\n",
    "    WINTER = 4\n",
    " \n",
    "# printing enum member as string\n",
    "print(Season.SPRING)\n",
    " \n",
    "# printing name of enum member using \"name\" keyword\n",
    "print(Season.SPRING.name)\n",
    " \n",
    "# printing value of enum member using \"value\" keyword\n",
    "print(Season.SPRING.value)\n",
    " \n",
    "# printing the type of enum member using type()\n",
    "print(type(Season.SPRING))\n",
    " \n",
    "# printing enum member as repr\n",
    "print(repr(Season.SPRING))\n",
    " \n",
    "# printing all enum member using \"list\" keyword\n",
    "print(list(Season))"
   ]
  },
  {
   "cell_type": "code",
   "execution_count": 4,
   "id": "4331df76",
   "metadata": {},
   "outputs": [],
   "source": [
    "from enum import Enum\n",
    " \n",
    "class AssetType(Enum):\n",
    "    NO_INCOME = 1\n",
    "    KNOWN_INCOME = 2\n",
    "    KNOWN_CONTINUOUS_YIELD = 3"
   ]
  },
  {
   "cell_type": "markdown",
   "id": "76b80467",
   "metadata": {},
   "source": [
    "# Exercise 1 (2 pts) - Forward price of an asset\n",
    "\n",
    "Implement a function to return the forward price of an asset that could be one of the three following asset types\n",
    "* `AssetType.NO_INCOME`: pays no coupons or dividends. \n",
    "* `AssetType.KNOWN_INCOME`: pays coupons or discrete cashflows\n",
    "* `AssetType.KNOWN_CONTINUOUS_YIELD`: pays dividend yield\n",
    "Use continuous compounding.\n",
    "I (income) is given as a tuple of (cashflow, time). For example, the income of a bond that pays four 5-dollar coupons in 6 months, 1 year, 1.5 years, and 2 years can be represented as $((5, 0.5), (5, 1), (5, 1.5), (5, 2))$\n",
    "The function should check the `asset_type` of the asset to use the correct formula for $F_t$."
   ]
  },
  {
   "cell_type": "code",
   "execution_count": 5,
   "id": "22bcfc74",
   "metadata": {},
   "outputs": [],
   "source": [
    "def calcForwardPrice(S, r, t, T, I, q, asset_type):\n",
    "    \n",
    "    \"\"\"\n",
    "    S: Spot price of the asset at time t\n",
    "    r: risk-free interest rate\n",
    "    t: current time\n",
    "    T: maturity (in years)\n",
    "    I: Present value at time t of the income received in [t, T] \n",
    "    q: dividend yield\n",
    "    asset_type: AssetType\n",
    "    \n",
    "    \n",
    "    return:\n",
    "    F: Forward price calculated at time t (Ft)\n",
    "    \"\"\"\n",
    "    \n",
    "    # Your code goes here\n",
    "    if asset_type == AssetType.NO_INCOME:\n",
    "        Ft = S * np.exp(r * (T - t))\n",
    "    elif asset_type == AssetType.KNOWN_INCOME:\n",
    "        Ft = (S - I) * np.exp(r * (T - t))\n",
    "    elif asset_type == AssetType.KNOWN_CONTINUOUS_YIELD:\n",
    "        Ft = S * np.exp((r - q) * (T - t))\n",
    "    else:\n",
    "        raise ValueError(\"Invalid asset type\")\n",
    "    \n",
    "    return Ft\n",
    "    "
   ]
  },
  {
   "cell_type": "markdown",
   "id": "41864c49",
   "metadata": {},
   "source": [
    "# Exercise 2 (2 pts) - Valuing a forward contract\n",
    "\n",
    "Implement a function to return the value at time t of a forward contract. Use continuous compounding. Use function `calcForwardPrice()` to calculate $F_t$"
   ]
  },
  {
   "cell_type": "code",
   "execution_count": 6,
   "id": "6cedcb11",
   "metadata": {},
   "outputs": [],
   "source": [
    "def calForwardValue(S, r, K, t, T, I, q, asset_type):\n",
    "    \n",
    "    \"\"\"\n",
    "    S: Spot price of the asset at time t\n",
    "    r: risk-free interest rate\n",
    "    t: current time\n",
    "    T: maturity (in years)\n",
    "    I: Present value at time t of the income received in [t, T] \n",
    "    q: dividend yield\n",
    "    asset_type: AssetType\n",
    "    \n",
    "    \n",
    "    return:\n",
    "    v: Forward price calculated at time t (Ft)\n",
    "    \"\"\"\n",
    "    \n",
    "    # Your code goes here\n",
    "    Ft = calcForwardPrice(S, r, t, T, I, q, asset_type)\n",
    "    \n",
    "    v = (Ft - K) * np.exp(-r * (T - t))\n",
    "    return v"
   ]
  },
  {
   "cell_type": "markdown",
   "id": "435f6858",
   "metadata": {},
   "source": [
    "# Exercise 3 (1 points)\n",
    "\n",
    "Implement a function to calculate the forward rate at time $t=0$ for the period $[t_1, t_2]$. "
   ]
  },
  {
   "cell_type": "code",
   "execution_count": 7,
   "id": "138bcf88",
   "metadata": {},
   "outputs": [],
   "source": [
    "def calForwardRate0(t1, t2, r1, r2):\n",
    "    \n",
    "    \"\"\"\n",
    "    r1: interest rate for period [0, t1]\n",
    "    r2: interest rate for period [0, t2]\n",
    "    \n",
    "    return: r, forward rate for period [t1, t2]\n",
    "    \"\"\"\n",
    "    \n",
    "    # Your code goes here\n",
    "    r = (r2*t2 - r1*t1) / (t2 - t1)\n",
    "    \n",
    "    return r"
   ]
  },
  {
   "cell_type": "markdown",
   "id": "522fd4c1",
   "metadata": {},
   "source": [
    "# Exercise 4 (1 points)\n",
    "\n",
    "Implement a function to calculate the forward rate at time $t, \\ 0 \\leq t \\leq t_1$ for the period $[t_1, t_2]$. "
   ]
  },
  {
   "cell_type": "code",
   "execution_count": 9,
   "id": "31fed204",
   "metadata": {},
   "outputs": [],
   "source": [
    "def calForwardRate(t, t1, t2, r1, r2):\n",
    "    \n",
    "    \"\"\"\n",
    "    t: the time at which the forward rate is calculated\n",
    "    r1: interest rate for period [0, t1]\n",
    "    r2: interest rate for period [0, t2]\n",
    "    \n",
    "    \n",
    "    return: r, forward rate calculated at time t for the period [t1, t2]\n",
    "    \"\"\"\n",
    "    \n",
    "    # Your code goes here\n",
    "    df1 = 1 / (1 + r1 * (t1 - t))\n",
    "    df2 = 1 / (1 + r2 * (t2 - t))\n",
    "\n",
    "    r = df1 / df2 - 1\n",
    "    \n",
    "    return r"
   ]
  },
  {
   "cell_type": "markdown",
   "id": "562467cb",
   "metadata": {},
   "source": [
    "# Exercise 5 (2 pts) - Valuing FRA\n",
    "\n",
    "An FRA was entered at time $0$ for the period $[t_1, t_2]$. Write a function to evaluate the FRA to the lender at time $t, \\ 0 \\leq t \\leq t_1$. \n",
    "\n",
    "$V_t=L e^{-r_2^*\\left(t_2-t\\right)}\\left(e^{r_K\\left(t_2-t_1\\right)}-e^{r_t^f\\left(t_2-t_1\\right)}\\right)$\n",
    "\n",
    "You can use the functions `calForwardRate0()` and `calForwardRate()` written above to calculate \n",
    "\n",
    "* $r_K$, the forward rate for $[t_1, t_2]$ as seen at time $0$.\n",
    "* $r_t^f$, the forward rate for $[t_1, t_2]$ as seen at time $t$.\n",
    "\n",
    "Use your function to solve the following problem.\n",
    "\n",
    "GM needs to borrow $1 million in 2 months. The money will be borrowed for 8 months. 2- and 10-month interest rates are 5.24\\% and 5.35\\%, respectively. GM enters an FRA with a bank. Suppose in 2 months, the 8-month LIBOR rate turns out to be 5.6\\%. How should the FRA be settled?"
   ]
  },
  {
   "cell_type": "code",
   "execution_count": 12,
   "id": "e8b4bb50",
   "metadata": {},
   "outputs": [],
   "source": [
    "def calFraValue(t, t1, t2, r1, r2, r1s, r2s):\n",
    "    \n",
    "    \"\"\"\n",
    "    t: the time at which the forward rate is valued\n",
    "    r1: interest rate for period [0, t1]\n",
    "    r2: interest rate for period [0, t2]\n",
    "    r1s: interest rate for period [t, t1]\n",
    "    r2s: interest rate for period [t, t2]\n",
    "    rtf: forward rate calculated at time t for the period [t1, t2]\n",
    "    \n",
    "    return: v, value of the FRA at time t\n",
    "    \"\"\"\n",
    "    \n",
    "    # Your code goes here\n",
    "    rtf = calForwardRate(t, t1, t2, r1, r2)\n",
    "    \n",
    "    df1s = 1 / (1 + r1s * (t1 - t))\n",
    "    df2s = 1 / (1 + r2s * (t2 - t))\n",
    "\n",
    "    v = (rtf - r2s) * (t2 - t1) * df1s * df2s\n",
    "    \n",
    "    return v"
   ]
  },
  {
   "cell_type": "code",
   "execution_count": 15,
   "id": "69853471",
   "metadata": {},
   "outputs": [
    {
     "name": "stdout",
     "output_type": "stream",
     "text": [
      "1482.2337382003336\n"
     ]
    }
   ],
   "source": [
    "# GM needs to borrow $1 million in 2 months. The money will be borrowed for 8 months. \n",
    "# 2- and 10-month interest rates are 5.24% and 5.35%, respectively. \n",
    "# GM enters an FRA with a bank. Suppose in 2 months, the 8-month LIBOR rate turns out \n",
    "# to be 5.6%. How should the FRA be settled?\n",
    "\n",
    "# Your code goes here\n",
    "r = calForwardRate0(2/12, 10/12, 0.0524, 0.0535)\n",
    "v = 1000000 * (1 - np.exp((r - 0.056)*8/12))\n",
    "print(v)\n",
    " "
   ]
  },
  {
   "cell_type": "markdown",
   "id": "41fc869b",
   "metadata": {},
   "source": [
    "# Exercise 6 (1 pt) - Forward price of a commodity as an investment asset\n",
    "\n",
    "The forward price of a commodity as an investment asset is given by \n",
    "\n",
    "$$F_0=\\left(S_0+U\\right) e^{r T}$$\n",
    "\n",
    "where \n",
    "\n",
    "$F_0$: forward price of a unit of the commodity calculated at time $0$\\\n",
    "$S_0$: spot proce of a unit of the commodity at time $0$\\\n",
    "$U$: the present value of storage costs for each unit of the asset\\\n",
    "$r$: risk-free interest rate\\\n",
    "$T$: maturity (in years)\n",
    "\n",
    "Implement a function to return the value at time t of a forward contract. Use continuous compounding."
   ]
  },
  {
   "cell_type": "code",
   "execution_count": 16,
   "id": "47d8b096",
   "metadata": {},
   "outputs": [],
   "source": [
    "def calcForwardPriceCommodities(S, U, r, T):\n",
    "    \n",
    "    \"\"\"\n",
    "    S: Spot price of a unit of the commodity at time 0\n",
    "    𝑈: present value of storage costs for each unit of the commodity\n",
    "    r: risk-free interest rate\n",
    "    T: maturity (in years)\n",
    "    \n",
    "    return:\n",
    "    F: Forward price of a unit of the commodity calculated at time 0 (F0)\n",
    "    \"\"\"\n",
    "    \n",
    "    # Your code goes here\n",
    "    F = (S + U) * np.exp(r * T)\n",
    "    \n",
    "    return F"
   ]
  },
  {
   "cell_type": "markdown",
   "id": "49e51790",
   "metadata": {},
   "source": [
    "# Exercise 7 (1 pt) - Convenience yield of a consumption commodity\n",
    "\n",
    "The convenience yield $y$ of a consumption commodity satistifies \n",
    "$$F_0 e^{y T}=\\left(S_0+U\\right) e^{r T}$$\n",
    "\n",
    "where \n",
    "\n",
    "$F_0$: forward price of a unit of the commodity at time $0$\\\n",
    "$S_0$: spot price of a unit of the commodity at time $0$\\\n",
    "$U$: the present value of storage costs for each unit of the asset\\\n",
    "$r$: risk-free interest rate\\\n",
    "$T$: maturity (in years)\n",
    "\n",
    "Implement a function to return the convenience yield of a forward contract. Use continuous compounding."
   ]
  },
  {
   "cell_type": "code",
   "execution_count": 17,
   "id": "2686e16f",
   "metadata": {},
   "outputs": [],
   "source": [
    "def calcConvenienceYield(S, U, F, r, T):\n",
    "    \n",
    "    \"\"\"\n",
    "    S: Spot price of a unit of the commodity at time 0\n",
    "    𝑈: present value of storage costs for each unit of the asset\n",
    "    r: risk-free interest rate\n",
    "    T: maturity (in years)\n",
    "    F: Forward price of a unit of the commodity at time 0 (F0)\n",
    "    \n",
    "    return:\n",
    "    y: convenience yield\n",
    "    \"\"\"\n",
    "    \n",
    "    # Your code goes here\n",
    "    y = np.log((F - U) / S) / T - r\n",
    "    \n",
    "    return y"
   ]
  },
  {
   "cell_type": "code",
   "execution_count": null,
   "id": "0bdcdc4a",
   "metadata": {},
   "outputs": [],
   "source": []
  }
 ],
 "metadata": {
  "kernelspec": {
   "display_name": "Python 3 (ipykernel)",
   "language": "python",
   "name": "python3"
  },
  "language_info": {
   "codemirror_mode": {
    "name": "ipython",
    "version": 3
   },
   "file_extension": ".py",
   "mimetype": "text/x-python",
   "name": "python",
   "nbconvert_exporter": "python",
   "pygments_lexer": "ipython3",
   "version": "3.11.2"
  }
 },
 "nbformat": 4,
 "nbformat_minor": 5
}
