{
 "cells": [
  {
   "cell_type": "code",
   "execution_count": 8,
   "metadata": {},
   "outputs": [],
   "source": [
    "import pandas as pd "
   ]
  },
  {
   "cell_type": "code",
   "execution_count": null,
   "metadata": {},
   "outputs": [],
   "source": [
    "# Quality Balance Sheet\n",
    "balance_sheet_data = pd.read_csv(\"./\")\n",
    "balance_sheet_ratios = {\n",
    "    \"Current Ratio\": \"Current Assets / Current Liabilities\",\n",
    "    \"Debt-to-Equity Ratio\": \"Total Liabilities / Shareholders' Equity\",\n",
    "    \"Quick Ratio\": \"(Current Assets - Inventory) / Current Liabilities\",\n",
    "    \"Cash Ratio\": \"Cash and Cash Equivalents / Current Liabilities\",\n",
    "    \"Working Capital Ratio\": \"Working Capital / Total Assets\",\n",
    "}\n",
    "for ratio_name, formula in balance_sheet_ratios.items():\n",
    "    balance_sheet_data[ratio_name] = eval(formula)\n",
    "print(\"Balance Sheet Ratios:\")\n",
    "for ratio_name, ratio_data in balance_sheet_data.iteritems():\n",
    "    if ratio_name in balance_sheet_ratios:\n",
    "        print(f\"{ratio_name}: {ratio_data.mean():.2f}\")"
   ]
  },
  {
   "cell_type": "code",
   "execution_count": null,
   "metadata": {},
   "outputs": [],
   "source": [
    "# Quality Income Statement\n",
    "income_statement_data = pd.read_csv(\"./csv_income_statement_annual.csv\")\n",
    "income_statement_ratios = {\n",
    "    \"Net Profit Margin\": \"Net Income / Revenue\",\n",
    "    \"Return on Assets (ROA)\": \"Net Income / Average Total Assets\",\n",
    "    \"Return on Equity (ROE)\": \"Net Income / Average Shareholders' Equity\",\n",
    "    \"Earnings Per Share (EPS)\": \"Net Income / Average Number of Shares Outstanding\",\n",
    "}\n",
    "for ratio_name, formula in income_statement_ratios.items():\n",
    "    income_statement_data[ratio_name] = eval(formula)\n",
    "print(\"\\nIncome Statement Ratios:\")\n",
    "for ratio_name, ratio_data in income_statement_data.iteritems():\n",
    "    if ratio_name in income_statement_ratios:\n",
    "        print(f\"{ratio_name}: {ratio_data.mean():.2%}\")"
   ]
  },
  {
   "cell_type": "code",
   "execution_count": null,
   "metadata": {},
   "outputs": [],
   "source": [
    "# Current Ratio\n",
    "data = pd.read_csv(\"./\")\n",
    "data[\"Current Ratio\"] = data[\"Current Assets\"] / data[\"Current Liabilities\"]\n",
    "print(\"Current Ratios:\")\n",
    "for index, current_ratio in data[\"Current Ratio\"].iteritems():\n",
    "    print(f\"Year {index + 1}: {current_ratio:.2f}\")"
   ]
  },
  {
   "cell_type": "code",
   "execution_count": null,
   "metadata": {},
   "outputs": [],
   "source": [
    "# Quick Ratio\n",
    "data = pd.read_csv(\"./\")\n",
    "data[\"Quick Ratio\"] = (data[\"Current Assets\"] - data[\"Inventory\"]) / data[\"Current Liabilities\"]\n",
    "print(\"Quick Ratios:\")\n",
    "for index, quick_ratio in data[\"Quick Ratio\"].iteritems():\n",
    "    print(f\"Year {index + 1}: {quick_ratio:.2f}\")"
   ]
  },
  {
   "cell_type": "code",
   "execution_count": null,
   "metadata": {},
   "outputs": [],
   "source": [
    "# Cash Ratio\n",
    "data = pd.read_csv(\"./\")\n",
    "data[\"Cash Ratio\"] = data[\"Cash and Cash Equivalents\"] / data[\"Current Liabilities\"]\n",
    "print(\"Cash Ratios:\")\n",
    "for index, cash_ratio in data[\"Cash Ratio\"].iteritems():\n",
    "    print(f\"Year {index + 1}: {cash_ratio:.2f}\")"
   ]
  },
  {
   "cell_type": "code",
   "execution_count": null,
   "metadata": {},
   "outputs": [],
   "source": [
    "# Receivables Turnover\n",
    "data = pd.read_csv(\"./\")\n",
    "balance_sheet_data = pd.read_csv(\"./\")\n",
    "data[\"Receivables Turnover\"] = data[\"Net Credit Sales\"] / ((balance_sheet_data[\"Accounts Receivable\"].shift(1) + balance_sheet_data[\"Accounts Receivable\"]) / 2)\n",
    "print(\"Receivables Turnover:\")\n",
    "for index, turnover in data[\"Receivables Turnover\"].iteritems():\n",
    "    print(f\"Year {index + 1}: {turnover:.2f}\")"
   ]
  },
  {
   "cell_type": "code",
   "execution_count": null,
   "metadata": {},
   "outputs": [],
   "source": [
    "# Inventory Turnover\n",
    "data = pd.read_csv(\"./\")\n",
    "balance_sheet_data = pd.read_csv(\"./\")\n",
    "data[\"Inventory Turnover\"] = data[\"Cost of Goods Sold\"] / ((balance_sheet_data[\"Inventory\"].shift(1) + balance_sheet_data[\"Inventory\"]) / 2)\n",
    "print(\"Inventory Turnover:\")\n",
    "for index, turnover in data[\"Inventory Turnover\"].iteritems():\n",
    "    print(f\"Year {index + 1}: {turnover:.2f}\")"
   ]
  },
  {
   "cell_type": "code",
   "execution_count": 15,
   "metadata": {},
   "outputs": [
    {
     "name": "stdout",
     "output_type": "stream",
     "text": [
      "Cash Conversion Cycle: 194.67 days\n"
     ]
    }
   ],
   "source": [
    "def calculate_ccc_from_ratios(current_ratio, inventory_turnover, receivables_turnover, payables_turnover):\n",
    "  \"\"\"\n",
    "  Calculates the Cash Conversion Cycle (CCC) in days using financial ratios.\n",
    "\n",
    "  Args:\n",
    "      current_ratio: Current ratio (float).\n",
    "      inventory_turnover: Inventory turnover (float).\n",
    "      receivables_turnover: Receivables turnover (float).\n",
    "      payables_turnover: Payables turnover (float).\n",
    "\n",
    "  Returns:\n",
    "      float: The Cash Conversion Cycle in days.\n",
    "  \"\"\"\n",
    "  dio = 365 / inventory_turnover\n",
    "  dso = 365 / receivables_turnover\n",
    "  dpo = 365 / payables_turnover\n",
    "  ccc = dio + dso - dpo\n",
    "  if current_ratio > 1:\n",
    "    ccc = ccc / (current_ratio - 1)\n",
    "  return ccc\n",
    "\n",
    "current_ratio = 1.5\n",
    "inventory_turnover = 4\n",
    "receivables_turnover = 10\n",
    "payables_turnover = 12\n",
    "ccc = calculate_ccc_from_ratios(current_ratio, inventory_turnover, receivables_turnover, payables_turnover)\n",
    "\n",
    "print(f\"Cash Conversion Cycle: {ccc:.2f} days\")"
   ]
  },
  {
   "cell_type": "code",
   "execution_count": null,
   "metadata": {},
   "outputs": [],
   "source": [
    "# Total Asset Turnover\n",
    "balance_sheet_data = pd.read_csv(\"./\")\n",
    "income_statement_data = pd.read_csv(\"./\")\n",
    "income_statement_data[\"Total Asset Turnover\"] = income_statement_data[\"Revenue\"] / ((balance_sheet_data[\"Total Assets\"].shift(1) + balance_sheet_data[\"Total Assets\"]) / 2)\n",
    "print(\"Total Asset Turnover:\")\n",
    "for index, turnover in income_statement_data[\"Total Asset Turnover\"].iteritems():\n",
    "    print(f\"Year {index + 1}: {turnover:.2f}\")"
   ]
  },
  {
   "cell_type": "code",
   "execution_count": null,
   "metadata": {},
   "outputs": [],
   "source": [
    "# Fixed Asset Turnover\n",
    "balance_sheet_data = pd.read_csv(\"./\")\n",
    "income_statement_data = pd.read_csv(\"./\")\n",
    "income_statement_data[\"Fixed Asset Turnover\"] = income_statement_data[\"Revenue\"] / balance_sheet_data[\"Net Fixed Assets\"]\n",
    "print(\"Fixed Asset Turnover:\")\n",
    "for index, turnover in income_statement_data[\"Fixed Asset Turnover\"].iteritems():\n",
    "    print(f\"Year {index + 1}: {turnover:.2f}\")"
   ]
  },
  {
   "cell_type": "code",
   "execution_count": null,
   "metadata": {},
   "outputs": [],
   "source": [
    "# Equity Turnover\n",
    "balance_sheet_data = pd.read_csv(\"./\")\n",
    "income_statement_data = pd.read_csv(\"./\")\n",
    "income_statement_data[\"Equity Turnover\"] = income_statement_data[\"Revenue\"] / ((balance_sheet_data[\"Shareholders' Equity\"].shift(1) + balance_sheet_data[\"Shareholders' Equity\"]) / 2)\n",
    "print(\"Equity Turnover:\")\n",
    "for index, turnover in income_statement_data[\"Equity Turnover\"].iteritems():\n",
    "    print(f\"Year {index + 1}: {turnover:.2f}\")"
   ]
  },
  {
   "cell_type": "code",
   "execution_count": null,
   "metadata": {},
   "outputs": [],
   "source": [
    "# Gross Profit Margin\n",
    "income_statement_data = pd.read_csv(\"./\")\n",
    "income_statement_data[\"Gross Profit Margin\"] = (income_statement_data[\"Revenue\"] - income_statement_data[\"Cost of Goods Sold\"]) / income_statement_data[\"Revenue\"] * 100\n",
    "print(\"Gross Profit Margin:\")\n",
    "for index, margin in income_statement_data[\"Gross Profit Margin\"].iteritems():\n",
    "    print(f\"Year {index + 1}: {margin:.2f}%\")"
   ]
  },
  {
   "cell_type": "code",
   "execution_count": null,
   "metadata": {},
   "outputs": [],
   "source": [
    "# Operating profit margin\n",
    "income_statement_data = pd.read_csv(\"./\")\n",
    "income_statement_data[\"Operating Profit Margin\"] = (income_statement_data[\"Operating Profit\"] / income_statement_data[\"Revenue\"]) * 100\n",
    "print(\"Operating Profit Margin:\")\n",
    "for index, margin in income_statement_data[\"Operating Profit Margin\"].iteritems():\n",
    "    print(f\"Year {index + 1}: {margin:.2f}%\")"
   ]
  },
  {
   "cell_type": "code",
   "execution_count": null,
   "metadata": {},
   "outputs": [],
   "source": [
    "# Net profit margin\n",
    "income_statement_data = pd.read_csv(\"./\")\n",
    "income_statement_data[\"Net Profit Margin\"] = (income_statement_data[\"Net Profit\"] / income_statement_data[\"Revenue\"]) * 100\n",
    "print(\"Net Profit Margin:\")\n",
    "for index, margin in income_statement_data[\"Net Profit Margin\"].iteritems():\n",
    "    print(f\"Year {index + 1}: {margin:.2f}%\")"
   ]
  },
  {
   "cell_type": "code",
   "execution_count": null,
   "metadata": {},
   "outputs": [],
   "source": [
    "# Return on total capital\n",
    "balance_sheet_data = pd.read_csv(\"./\")\n",
    "income_statement_data = pd.read_csv(\"./\")\n",
    "income_statement_data[\"NOPAT\"] = income_statement_data[\"Operating Profit\"] * (1 - income_statement_data[\"Tax Rate\"])\n",
    "income_statement_data[\"ROIC\"] = (income_statement_data[\"NOPAT\"] / (balance_sheet_data[\"Total Debt\"] + balance_sheet_data[\"Shareholders' Equity\"])) * 100\n",
    "print(\"Return on Total Capital (ROIC):\")\n",
    "for index, roic in income_statement_data[\"ROIC\"].iteritems():\n",
    "    print(f\"Year {index + 1}: {roic:.2f}%\")"
   ]
  },
  {
   "cell_type": "code",
   "execution_count": null,
   "metadata": {},
   "outputs": [],
   "source": [
    "# Return on total capital including leases\n",
    "income_statement_data = pd.read_csv(\"./\")\n",
    "balance_sheet_data = pd.read_csv(\"./\")\n",
    "lease_data = pd.read_csv(\"./\")\n",
    "income_statement_data[\"NOPAT\"] = income_statement_data[\"Operating Profit\"] * (1 - income_statement_data[\"Tax Rate\"])\n",
    "total_capital_including_leases = balance_sheet_data[\"Total Debt\"] + lease_data[\"Operating Lease Liabilities\"] + balance_sheet_data[\"Shareholders' Equity\"]\n",
    "income_statement_data[\"ROICIL\"] = (income_statement_data[\"NOPAT\"] / total_capital_including_leases) * 100\n",
    "print(\"Return on Total Capital Including Leases (ROICIL):\")\n",
    "for index, roicil in income_statement_data[\"ROICIL\"].iteritems():\n",
    "    print(f\"Year {index + 1}: {roicil:.2f}%\")"
   ]
  },
  {
   "cell_type": "markdown",
   "metadata": {},
   "source": [
    "You are considering buying a piece of manufacturing equipment with a 3-year lease, with monthly payments of $2,000. You plan to use the equipment for 5 years and sell it for $5,000. You want to calculate the purchase price based on a 10% discount rate"
   ]
  },
  {
   "cell_type": "code",
   "execution_count": 17,
   "metadata": {},
   "outputs": [
    {
     "name": "stdout",
     "output_type": "stream",
     "text": [
      "Purchase price: $19336.59\n"
     ]
    }
   ],
   "source": [
    "monthly_payment = 2000\n",
    "lease_duration = 3 * 12  # 3 years in months\n",
    "discount_rate = 0.1\n",
    "selling_price = 5000\n",
    "equipment_life = 5 * 12  # 5 years in months\n",
    "\n",
    "# Calculate present value of lease payments\n",
    "present_value_lease = 0\n",
    "for month in range(1, lease_duration + 1):\n",
    "  present_value_lease += monthly_payment / (1 + discount_rate)**month\n",
    "\n",
    "# Calculate present value of equipment sale\n",
    "present_value_sale = selling_price / (1 + discount_rate)**equipment_life\n",
    "\n",
    "# Calculate purchase price\n",
    "purchase_price = present_value_lease - present_value_sale\n",
    "\n",
    "# Print the purchase price\n",
    "print(f\"Purchase price: ${purchase_price:.2f}\")"
   ]
  },
  {
   "cell_type": "markdown",
   "metadata": {},
   "source": [
    "You have three leases for the same type of machine: Lease 1: 2 years remaining, $500 monthly payment; Lease 2: 1 year remaining, $600 monthly payment; Lease 3: 3 years remaining, $400 monthly payment. Cost $1000."
   ]
  },
  {
   "cell_type": "code",
   "execution_count": 18,
   "metadata": {},
   "outputs": [
    {
     "name": "stdout",
     "output_type": "stream",
     "text": [
      "Buying the equipment is more cost-effective with an average cost of $200.00\n"
     ]
    }
   ],
   "source": [
    "# Define lease details\n",
    "lease_data = [\n",
    "    {\"remaining_years\": 2, \"monthly_payment\": 500},\n",
    "    {\"remaining_years\": 1, \"monthly_payment\": 600},\n",
    "    {\"remaining_years\": 3, \"monthly_payment\": 400},\n",
    "]\n",
    "\n",
    "# Define cost of buying the equipment\n",
    "cost_to_buy = 1000\n",
    "\n",
    "# Calculate total cost of each lease\n",
    "for lease in lease_data:\n",
    "  total_months = lease[\"remaining_years\"] * 12\n",
    "  lease[\"total_cost\"] = total_months * lease[\"monthly_payment\"]\n",
    "\n",
    "# Define weights for remaining years (can be adjusted)\n",
    "weights = [0.7, 0.3, 0.5]\n",
    "\n",
    "# Calculate weighted average cost\n",
    "weighted_costs = []\n",
    "for i, lease in enumerate(lease_data):\n",
    "  weighted_costs.append(lease[\"total_cost\"] * weights[i])\n",
    "\n",
    "total_weighted_cost = sum(weighted_costs)\n",
    "\n",
    "# Calculate average cost of buying\n",
    "average_cost_to_buy = cost_to_buy / 5  # assuming 5-year equipment life\n",
    "\n",
    "# Choose the most cost-effective option\n",
    "if min(weighted_costs) < average_cost_to_buy:\n",
    "  best_lease_index = weighted_costs.index(min(weighted_costs))\n",
    "  best_lease = lease_data[best_lease_index]\n",
    "  print(f\"Lease {best_lease_index + 1} is the most cost-effective with a weighted average cost of ${min(weighted_costs):.2f}\")\n",
    "else:\n",
    "  print(f\"Buying the equipment is more cost-effective with an average cost of ${average_cost_to_buy:.2f}\")"
   ]
  },
  {
   "cell_type": "markdown",
   "metadata": {},
   "source": [
    "The total assets of a shoe manufacturing company are $10 million. The company's net fixed assets are $6 million (including factory, machinery, and equipment)."
   ]
  },
  {
   "cell_type": "code",
   "execution_count": 20,
   "metadata": {},
   "outputs": [
    {
     "name": "stdout",
     "output_type": "stream",
     "text": [
      "New Total Assets with 15.0% revenue growth: $11500000.00\n"
     ]
    }
   ],
   "source": [
    "revenue_growth_rate = 0.15  # Adjust this value as needed\n",
    "new_revenue = total_assets * (1 + revenue_growth_rate)\n",
    "new_total_assets = new_revenue  # Assuming profits are reinvested in the company\n",
    "\n",
    "print(f\"New Total Assets with {revenue_growth_rate * 100}% revenue growth: ${new_total_assets:.2f}\")"
   ]
  },
  {
   "cell_type": "markdown",
   "metadata": {},
   "source": [
    "The total assets of a software company are $5 million. The company's net fixed assets are $0.5 million (primarily computers and office equipment)."
   ]
  },
  {
   "cell_type": "code",
   "execution_count": 21,
   "metadata": {},
   "outputs": [
    {
     "name": "stdout",
     "output_type": "stream",
     "text": [
      "Fixed Assets Percentage: 10.00%\n",
      "Current Assets Percentage: 90.00%\n"
     ]
    }
   ],
   "source": [
    "total_assets = 5_000_000\n",
    "net_fixed_assets = 500_000\n",
    "current_assets = total_assets - net_fixed_assets\n",
    "\n",
    "fixed_assets_percentage = (net_fixed_assets / total_assets) * 100\n",
    "current_assets_percentage = (current_assets / total_assets) * 100\n",
    "\n",
    "print(f\"Fixed Assets Percentage: {fixed_assets_percentage:.2f}%\")\n",
    "print(f\"Current Assets Percentage: {current_assets_percentage:.2f}%\")"
   ]
  },
  {
   "cell_type": "code",
   "execution_count": null,
   "metadata": {},
   "outputs": [],
   "source": [
    "# Return on owner’s equity\n",
    "balance_sheet_data = pd.read_csv(\"./\")\n",
    "income_statement_data = pd.read_csv(\"./\")\n",
    "income_statement_data[\"ROE\"] = (income_statement_data[\"Net Income\"] / ((balance_sheet_data[\"Shareholders' Equity\"].shift(1) + balance_sheet_data[\"Shareholders' Equity\"]) / 2)) * 100\n",
    "print(\"Return on Owner's Equity (ROE):\")\n",
    "for index, roe in income_statement_data[\"ROE\"].iteritems():\n",
    "    print(f\"Year {index + 1}: {roe:.2f}%\")"
   ]
  },
  {
   "cell_type": "code",
   "execution_count": null,
   "metadata": {},
   "outputs": [],
   "source": [
    "# Sale variability\n",
    "sale_data = pd.read_csv(\"./\")\n",
    "sales_std = sale_data[\"Sales\"].std()\n",
    "sales_variance = data[\"Sales\"].var()\n",
    "print(f\"Standard deviation of sales: {sales_std:.2f}\")\n",
    "print(f\"Variance of sales: {sales_variance:.2f}\")"
   ]
  },
  {
   "cell_type": "code",
   "execution_count": null,
   "metadata": {},
   "outputs": [],
   "source": [
    "# Operating leverage\n",
    "income_statement_data = pd.read_csv(\"./\")\n",
    "income_statement_data[\"Sales Change\"] = income_statement_data[\"Revenue\"].pct_change() * 100\n",
    "income_statement_data[\"Operating Income Change\"] = income_statement_data[\"Operating Profit\"].pct_change() * 100\n",
    "income_statement_data[\"Operating Leverage\"] = income_statement_data[\"Operating Income Change\"] / income_statement_data[\"Sales Change\"]\n",
    "print(\"Operating Leverage:\")"
   ]
  },
  {
   "cell_type": "code",
   "execution_count": null,
   "metadata": {},
   "outputs": [],
   "source": [
    "# Debt-to-Equity Ratio\n",
    "balance_sheet_data = pd.read_csv(\"./\")\n",
    "balance_sheet_data[\"Debt-to-Equity Ratio\"] = balance_sheet_data[\"Total Debt\"] / balance_sheet_data[\"Shareholders' Equity\"]\n",
    "print(\"Debt-to-Equity Ratios:\")\n",
    "for index, ratio in balance_sheet_data[\"Debt-to-Equity Ratio\"].iteritems():\n",
    "    print(f\"Year {index + 1}: {ratio:.2f}\")"
   ]
  },
  {
   "cell_type": "code",
   "execution_count": null,
   "metadata": {},
   "outputs": [],
   "source": [
    "# Long-Term Debt to Total Capitalization\n",
    "balance_sheet_data = pd.read_csv(\"./\")\n",
    "balance_sheet_data[\"Long-Term Debt to Total Capitalization\"] = balance_sheet_data[\"Long-Term Debt\"] / (balance_sheet_data[\"Long-Term Debt\"] + balance_sheet_data[\"Shareholders' Equity\"])\n",
    "print(\"Long-Term Debt to Total Capitalization Ratios:\")\n",
    "for index, ratio in balance_sheet_data[\"Long-Term Debt to Total Capitalization\"].iteritems():\n",
    "    print(f\"Year {index + 1}: {ratio:.2%}\")"
   ]
  },
  {
   "cell_type": "code",
   "execution_count": null,
   "metadata": {},
   "outputs": [],
   "source": [
    "# Total Debt Ratios\n",
    "balance_sheet_data = pd.read_csv(\"./\")\n",
    "balance_sheet_data[\"Debt-to-Assets Ratio\"] = balance_sheet_data[\"Total Debt\"] / balance_sheet_data[\"Total Assets\"]\n",
    "balance_sheet_data[\"Debt-to-Equity Ratio\"] = balance_sheet_data[\"Total Debt\"] / balance_sheet_data[\"Shareholders' Equity\"]\n",
    "balance_sheet_data[\"Total Debt to Total Capitalization Ratio\"] = balance_sheet_data[\"Total Debt\"] / (balance_sheet_data[\"Total Debt\"] + balance_sheet_data[\"Shareholders' Equity\"])\n",
    "print(\"Total Debt Ratios:\")\n",
    "for index, row in balance_sheet_data.iterrows():\n",
    "    print(f\"Year {index + 1}:\")\n",
    "    print(f\"  Debt-to-Assets Ratio: {row['Debt-to-Assets Ratio']:.2%}\")\n",
    "    print(f\"  Debt-to-Equity Ratio: {row['Debt-to-Equity Ratio']:.2f}\")\n",
    "    print(f\"Total Debt to Total Capitalization Ratio: {row['Total Debt to Total Capitalization Ratio']:.2%}\\n\")"
   ]
  },
  {
   "cell_type": "code",
   "execution_count": null,
   "metadata": {},
   "outputs": [],
   "source": [
    "# Interest Coverage\n",
    "income_statement_data = pd.read_csv(\"./\")\n",
    "income_statement_data[\"Interest Coverage Ratio\"] = income_statement_data[\"Operating Profit\"] / income_statement_data[\"Interest Expense\"]\n",
    "print(\"Interest Coverage Ratios:\")\n",
    "for index, ratio in income_statement_data[\"Interest Coverage Ratio\"].iteritems():\n",
    "    print(f\"Year {index + 1}: {ratio:.2f}\")"
   ]
  },
  {
   "cell_type": "code",
   "execution_count": null,
   "metadata": {},
   "outputs": [],
   "source": [
    "# Cash Flow Coverage Ratios\n",
    "# Cash Flow/Long-Term Debt Ratios\n",
    "# Cash Flow/Total Debt Ratios\n",
    "cash_flow_statement_data = pd.read_csv(\"./\")\n",
    "balance_sheet_data = pd.read_csv(\"./\")\n",
    "cash_flow_statement_data[\"Cash Flow to Long-Term Debt Ratio\"] = cash_flow_statement_data[\"Operating Cash Flow\"] / balance_sheet_data[\"Long-Term Debt\"]\n",
    "cash_flow_statement_data[\"Cash Flow to Total Debt Ratio\"] = cash_flow_statement_data[\"Operating Cash Flow\"] / balance_sheet_data[\"Total Debt\"]\n",
    "print(\"Cash Flow Coverage Ratios:\")\n",
    "for index, row in cash_flow_statement_data.iterrows():\n",
    "    print(f\"Year {index + 1}:\")\n",
    "    print(f\"  Cash Flow to Long-Term Debt Ratio: {row['Cash Flow to Long-Term Debt Ratio']:.2f}\")\n",
    "    print(f\"  Cash Flow to Total Debt Ratio: {row['Cash Flow to Total Debt Ratio']:.2f}\\n\")"
   ]
  }
 ],
 "metadata": {
  "kernelspec": {
   "display_name": "Python 3",
   "language": "python",
   "name": "python3"
  },
  "language_info": {
   "codemirror_mode": {
    "name": "ipython",
    "version": 3
   },
   "file_extension": ".py",
   "mimetype": "text/x-python",
   "name": "python",
   "nbconvert_exporter": "python",
   "pygments_lexer": "ipython3",
   "version": "3.11.2"
  }
 },
 "nbformat": 4,
 "nbformat_minor": 2
}
